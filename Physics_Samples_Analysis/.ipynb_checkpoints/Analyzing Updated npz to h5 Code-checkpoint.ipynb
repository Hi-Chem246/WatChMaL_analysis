{
 "cells": [
  {
   "cell_type": "code",
   "execution_count": 1,
   "id": "sweet-broadcasting",
   "metadata": {},
   "outputs": [],
   "source": [
    "import sys\n",
    "import os\n",
    "import h5py\n",
    "from collections import Counter\n",
    "from progressbar import *\n",
    "import re\n",
    "import numpy as np\n",
    "from scipy import signal\n",
    "import matplotlib.pyplot as plt \n",
    "from functools import reduce\n",
    "\n",
    "# Add the path to the parent directory to augment search for module\n",
    "par_dir = os.path.abspath(os.path.join(os.getcwd(), os.pardir))\n",
    "\n",
    "if par_dir not in sys.path:\n",
    "    sys.path.append(par_dir)\n",
    "\n",
    "sys.path.append(\"../..\")\n",
    "sys.path.append(\"..\")\n",
    "\n",
    "%load_ext autoreload\n",
    "%matplotlib inline\n",
    "%autoreload 2\n",
    "\n",
    "from IPython.display import HTML"
   ]
  },
  {
   "cell_type": "code",
   "execution_count": 2,
   "id": "median-remove",
   "metadata": {},
   "outputs": [],
   "source": [
    "data_path = \"/home/hlahiouel/physics_samples/h5_files/physics_samples_test_update_apr6.h5\"\n",
    "\n",
    "f = h5py.File(data_path, \"r\")"
   ]
  },
  {
   "cell_type": "code",
   "execution_count": 3,
   "id": "acknowledged-artwork",
   "metadata": {
    "scrolled": true
   },
   "outputs": [
    {
     "name": "stdout",
     "output_type": "stream",
     "text": [
      "<KeysViewHDF5 ['angles', 'energies', 'event_hits_index', 'event_ids', 'hit_charge', 'hit_pmt', 'hit_time', 'labels', 'positions', 'root_files', 'veto', 'veto2']>\n",
      "<HDF5 dataset \"angles\": shape (376, 2), type \"<f4\">\n",
      "<HDF5 dataset \"energies\": shape (376, 1), type \"<f4\">\n",
      "<HDF5 dataset \"event_hits_index\": shape (376,), type \"<i8\">\n",
      "<HDF5 dataset \"event_ids\": shape (376,), type \"<i4\">\n",
      "<HDF5 dataset \"hit_charge\": shape (383732,), type \"<f4\">\n",
      "<HDF5 dataset \"hit_pmt\": shape (383732,), type \"<i4\">\n",
      "<HDF5 dataset \"hit_time\": shape (383732,), type \"<f4\">\n",
      "<HDF5 dataset \"labels\": shape (376,), type \"<i4\">\n",
      "<HDF5 dataset \"positions\": shape (376, 1, 3), type \"<f4\">\n",
      "<HDF5 dataset \"root_files\": shape (376,), type \"|O\">\n",
      "<HDF5 dataset \"veto\": shape (376,), type \"|b1\">\n",
      "<HDF5 dataset \"veto2\": shape (376,), type \"|b1\">\n"
     ]
    }
   ],
   "source": [
    "print(f.keys())\n",
    "\n",
    "for key in f.keys():\n",
    "    print(f[key])"
   ]
  },
  {
   "cell_type": "code",
   "execution_count": null,
   "id": "right-colors",
   "metadata": {},
   "outputs": [],
   "source": [
    "event_id = f['event_ids']"
   ]
  },
  {
   "cell_type": "code",
   "execution_count": null,
   "id": "generic-upper",
   "metadata": {},
   "outputs": [],
   "source": [
    "print(event_id[0])"
   ]
  },
  {
   "cell_type": "code",
   "execution_count": null,
   "id": "incorporated-artist",
   "metadata": {},
   "outputs": [],
   "source": [
    "root_files = f['root_files']"
   ]
  },
  {
   "cell_type": "code",
   "execution_count": null,
   "id": "competent-martial",
   "metadata": {},
   "outputs": [],
   "source": [
    "print(root_files[0])"
   ]
  },
  {
   "cell_type": "code",
   "execution_count": 2,
   "id": "golden-yorkshire",
   "metadata": {},
   "outputs": [],
   "source": [
    "b = np.load('/home/hlahiouel/physics_samples/npz_files/iwcd_p320ka_w750m_1e17pot_2p39_wcsim.00000.npz')"
   ]
  },
  {
   "cell_type": "code",
   "execution_count": 4,
   "id": "through-punishment",
   "metadata": {},
   "outputs": [
    {
     "name": "stdout",
     "output_type": "stream",
     "text": [
      "['event_id', 'root_file', 'pid', 'position', 'direction', 'energy', 'digi_hit_pmt', 'digi_hit_charge', 'digi_hit_time', 'digi_hit_trigger', 'true_hit_pmt', 'true_hit_time', 'true_hit_pos', 'true_hit_start_time', 'true_hit_start_pos', 'true_hit_parent', 'track_id', 'track_pid', 'track_start_time', 'track_energy', 'track_start_position', 'track_stop_position', 'track_parent', 'track_flag', 'trigger_time', 'trigger_type']\n"
     ]
    }
   ],
   "source": [
    "print(list(b.keys()))"
   ]
  },
  {
   "cell_type": "code",
   "execution_count": null,
   "id": "normal-barrel",
   "metadata": {},
   "outputs": [],
   "source": [
    "labels = b['energy']"
   ]
  },
  {
   "cell_type": "code",
   "execution_count": null,
   "id": "communist-speed",
   "metadata": {},
   "outputs": [],
   "source": [
    "print(labels)"
   ]
  },
  {
   "cell_type": "code",
   "execution_count": null,
   "id": "synthetic-sender",
   "metadata": {},
   "outputs": [],
   "source": [
    "print(len(labels))"
   ]
  },
  {
   "cell_type": "code",
   "execution_count": null,
   "id": "unauthorized-current",
   "metadata": {},
   "outputs": [],
   "source": []
  }
 ],
 "metadata": {
  "kernelspec": {
   "display_name": "Python 3",
   "language": "python",
   "name": "python3"
  },
  "language_info": {
   "codemirror_mode": {
    "name": "ipython",
    "version": 3
   },
   "file_extension": ".py",
   "mimetype": "text/x-python",
   "name": "python",
   "nbconvert_exporter": "python",
   "pygments_lexer": "ipython3",
   "version": "3.8.5"
  }
 },
 "nbformat": 4,
 "nbformat_minor": 5
}
