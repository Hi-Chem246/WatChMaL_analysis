{
 "cells": [
  {
   "cell_type": "markdown",
   "id": "thick-criminal",
   "metadata": {},
   "source": [
    "In this notebook, I want to convert the ML outputs (softmaxes and predictions) into a format which can be used in Charlie's analysis code (i.e. a ROOT file). "
   ]
  },
  {
   "cell_type": "code",
   "execution_count": 1,
   "id": "center-fishing",
   "metadata": {},
   "outputs": [],
   "source": [
    "%load_ext autoreload\n",
    "%matplotlib inline\n",
    "%autoreload 2"
   ]
  },
  {
   "cell_type": "code",
   "execution_count": 2,
   "id": "focal-exclusion",
   "metadata": {},
   "outputs": [],
   "source": [
    "import uproot3 as uproot\n",
    "import numpy as np\n",
    "import matplotlib.pyplot as plt\n",
    "import os\n",
    "import sys\n",
    "import h5py"
   ]
  },
  {
   "cell_type": "code",
   "execution_count": 3,
   "id": "fatty-estate",
   "metadata": {},
   "outputs": [],
   "source": [
    "sys.path.append(\"..\")"
   ]
  },
  {
   "cell_type": "markdown",
   "id": "advanced-glance",
   "metadata": {},
   "source": [
    "## ML Outputs"
   ]
  },
  {
   "cell_type": "code",
   "execution_count": 4,
   "id": "instant-occasion",
   "metadata": {},
   "outputs": [
    {
     "name": "stdout",
     "output_type": "stream",
     "text": [
      "[[1.53504673e-03 5.26998704e-03 9.83841419e-01 9.35359485e-03]\n",
      " [2.43088249e-02 2.67587882e-02 9.35608089e-01 1.33241834e-02]\n",
      " [2.04171915e-08 3.63517358e-07 9.99999642e-01 6.43729869e-09]\n",
      " ...\n",
      " [0.00000000e+00 0.00000000e+00 0.00000000e+00 1.00000000e+00]\n",
      " [6.47507384e-02 1.10067636e-01 8.10013771e-01 1.51678268e-02]\n",
      " [2.49784842e-01 3.14024419e-01 2.06582069e-01 2.29608640e-01]]\n",
      "[-1 -1 -1 ... -1 -1 -1]\n",
      "[      0       1       2 ... 1897291 1897292 1897293]\n",
      "[2 2 2 ... 3 2 1]\n",
      "1897294\n",
      "(array([      0,       1,       2, ..., 1897286, 1897290, 1897292]),)\n",
      "936040\n"
     ]
    }
   ],
   "source": [
    "locs_physics_sample = '/home/hlahiouel/WatChMaL/outputs/2021-04-29/10-05-34/outputs'\n",
    "\n",
    "titles_physics_sample = 'Physics Sample'\n",
    "\n",
    "softmax_physics_sample = np.load(locs_physics_sample + \"/softmax.npy\") \n",
    "\n",
    "print(softmax_physics_sample)\n",
    "\n",
    "labels_physics_sample  = np.load(locs_physics_sample + \"/labels.npy\")\n",
    "\n",
    "print(labels_physics_sample)\n",
    "\n",
    "indices_physics_sample = np.load(locs_physics_sample + \"/indices.npy\")\n",
    "\n",
    "print(indices_physics_sample)\n",
    "\n",
    "predictions_physics_sample = np.load(locs_physics_sample + \"/predictions.npy\")\n",
    "\n",
    "print(predictions_physics_sample)\n",
    "\n",
    "print(len(predictions_physics_sample))\n",
    "\n",
    "print(np.where(predictions_physics_sample == 2))\n",
    "\n",
    "muons = len(np.where(predictions_physics_sample == 2)[0])\n",
    "\n",
    "print(muons)"
   ]
  },
  {
   "cell_type": "code",
   "execution_count": 5,
   "id": "applied-responsibility",
   "metadata": {},
   "outputs": [
    {
     "name": "stdout",
     "output_type": "stream",
     "text": [
      "Softmax Datatype: float32\n",
      "Prediction Datatype: int64\n"
     ]
    }
   ],
   "source": [
    "print('Softmax Datatype:', softmax_physics_sample.dtype)\n",
    "print('Prediction Datatype:', predictions_physics_sample.dtype)"
   ]
  },
  {
   "cell_type": "code",
   "execution_count": 6,
   "id": "sufficient-seven",
   "metadata": {},
   "outputs": [],
   "source": [
    "bad_fitqun_files = [102, 104, 107, 113, 114, 119, 200, 312, 314, 315, 316, 317, 319, 320, 321, 323, 325, 326, 436, 437, 439, 442, 443, 445, 447, 450, 4027, 5030, 5031, 5032, 5033, 5034, 5035, 5036, 5037, 5038, 5329, 5330, 5331, 5332, 5333, 5339, 5340, 5365, 5366, 5367, 5400, 5401, 5456, 5458, 5459, 5460, 5461, 5462, 5463, 5464, 5465, 5466, 5467, 5468, 5508, 5509, 5510, 5511, 5515, 5517, 5519, 5520, 5521, 5522, 5524, 7601, 7602, 7603, 7606, 7608, 7612, 8705, 8720, 8846, 8847, 8848, 8849, 8851, 8852, 8853, 8855, 8856, 8857, 8858, 8861, 9338]"
   ]
  },
  {
   "cell_type": "code",
   "execution_count": 7,
   "id": "interpreted-repository",
   "metadata": {},
   "outputs": [
    {
     "name": "stdout",
     "output_type": "stream",
     "text": [
      "92\n"
     ]
    }
   ],
   "source": [
    "print(len(bad_fitqun_files))"
   ]
  },
  {
   "cell_type": "code",
   "execution_count": 8,
   "id": "greenhouse-eleven",
   "metadata": {},
   "outputs": [],
   "source": [
    "predictions = predictions_physics_sample\n",
    "p_gamma = softmax_physics_sample[:,0]\n",
    "p_electron = softmax_physics_sample[:,1]\n",
    "p_muon = softmax_physics_sample[:,2]\n",
    "p_pion = softmax_physics_sample[:,3]"
   ]
  },
  {
   "cell_type": "code",
   "execution_count": 9,
   "id": "fifty-today",
   "metadata": {},
   "outputs": [
    {
     "name": "stdout",
     "output_type": "stream",
     "text": [
      "<class 'numpy.ndarray'>\n"
     ]
    }
   ],
   "source": [
    "print(type(p_muon))"
   ]
  },
  {
   "cell_type": "code",
   "execution_count": 10,
   "id": "healthy-seminar",
   "metadata": {},
   "outputs": [
    {
     "name": "stdout",
     "output_type": "stream",
     "text": [
      "<class 'numpy.int64'>\n"
     ]
    }
   ],
   "source": [
    "print(type(predictions[0]))"
   ]
  },
  {
   "cell_type": "markdown",
   "id": "valuable-closer",
   "metadata": {},
   "source": [
    "## H5 File"
   ]
  },
  {
   "cell_type": "code",
   "execution_count": 11,
   "id": "julian-occurrence",
   "metadata": {},
   "outputs": [
    {
     "name": "stdout",
     "output_type": "stream",
     "text": [
      "<KeysViewHDF5 ['angles', 'energies', 'event_hits_index', 'event_ids', 'hit_charge', 'hit_pmt', 'hit_time', 'labels', 'positions', 'root_files', 'veto', 'veto2']>\n",
      "<HDF5 dataset \"angles\": shape (1897294, 2), type \"<f4\">\n",
      "<HDF5 dataset \"energies\": shape (1897294, 1), type \"<f4\">\n",
      "<HDF5 dataset \"event_hits_index\": shape (1897294,), type \"<i8\">\n",
      "<HDF5 dataset \"event_ids\": shape (1897294,), type \"<i4\">\n",
      "<HDF5 dataset \"hit_charge\": shape (2090271258,), type \"<f4\">\n",
      "<HDF5 dataset \"hit_pmt\": shape (2090271258,), type \"<i4\">\n",
      "<HDF5 dataset \"hit_time\": shape (2090271258,), type \"<f4\">\n",
      "<HDF5 dataset \"labels\": shape (1897294,), type \"<i4\">\n",
      "<HDF5 dataset \"positions\": shape (1897294, 1, 3), type \"<f4\">\n",
      "<HDF5 dataset \"root_files\": shape (1897294,), type \"|O\">\n",
      "<HDF5 dataset \"veto\": shape (1897294,), type \"|b1\">\n",
      "<HDF5 dataset \"veto2\": shape (1897294,), type \"|b1\">\n"
     ]
    }
   ],
   "source": [
    "data_path = \"/fast_scratch/WatChMaL/data/physics_samples_five_thousand_files_apr28.h5\"\n",
    "\n",
    "h5file = h5py.File(data_path, \"r\")\n",
    "\n",
    "print(h5file.keys())\n",
    "\n",
    "for key in h5file.keys():\n",
    "    print(h5file[key])"
   ]
  },
  {
   "cell_type": "code",
   "execution_count": 12,
   "id": "parental-default",
   "metadata": {},
   "outputs": [],
   "source": [
    "root_files = np.array(h5file['root_files'])\n",
    "event_ids = np.array(h5file['event_ids'])"
   ]
  },
  {
   "cell_type": "code",
   "execution_count": 13,
   "id": "going-rochester",
   "metadata": {},
   "outputs": [],
   "source": [
    "bad_fitqun_files = [102, 104, 107, 113, 114, 119, 200, 312, 314, 315, 316, 317, 319, 320, 321, 323, 325, 326, 436, 437, 439, 442, 443, 445, 447, 450, 4027, 5030, 5031, 5032, 5033, 5034, 5035, 5036, 5037, 5038, 5329, 5330, 5331, 5332, 5333, 5339, 5340, 5365, 5366, 5367, 5400, 5401, 5456, 5458, 5459, 5460, 5461, 5462, 5463, 5464, 5465, 5466, 5467, 5468, 5508, 5509, 5510, 5511, 5515, 5517, 5519, 5520, 5521, 5522, 5524, 7601, 7602, 7603, 7606, 7608, 7612, 8705, 8720, 8846, 8847, 8848, 8849, 8851, 8852, 8853, 8855, 8856, 8857, 8858, 8861, 9338]"
   ]
  },
  {
   "cell_type": "code",
   "execution_count": 14,
   "id": "through-karen",
   "metadata": {},
   "outputs": [
    {
     "name": "stdout",
     "output_type": "stream",
     "text": [
      "92\n"
     ]
    }
   ],
   "source": [
    "print(len(bad_fitqun_files))"
   ]
  },
  {
   "cell_type": "code",
   "execution_count": 15,
   "id": "exempt-destruction",
   "metadata": {},
   "outputs": [],
   "source": [
    "for i in range(len(root_files)):\n",
    "    root_files[i] = str(root_files[i])"
   ]
  },
  {
   "cell_type": "code",
   "execution_count": 16,
   "id": "broadband-peripheral",
   "metadata": {},
   "outputs": [],
   "source": [
    "root_file_ids = []"
   ]
  },
  {
   "cell_type": "code",
   "execution_count": 17,
   "id": "copyrighted-double",
   "metadata": {},
   "outputs": [],
   "source": [
    "for j in range(len(root_files)):\n",
    "    root_file_ids.append(root_files[j][79:84])"
   ]
  },
  {
   "cell_type": "code",
   "execution_count": 18,
   "id": "synthetic-armor",
   "metadata": {},
   "outputs": [],
   "source": [
    "for k in range(len(root_file_ids)):\n",
    "    root_file_ids[k] = int(root_file_ids[k])"
   ]
  },
  {
   "cell_type": "code",
   "execution_count": 19,
   "id": "mediterranean-traffic",
   "metadata": {},
   "outputs": [],
   "source": [
    "root_file_ids = np.array(root_file_ids)"
   ]
  },
  {
   "cell_type": "code",
   "execution_count": 20,
   "id": "detailed-findings",
   "metadata": {},
   "outputs": [],
   "source": [
    "bad_fitqun_file_ids = np.array([],int)\n",
    "\n",
    "for h in bad_fitqun_files:\n",
    "    bad_indices = np.where(root_file_ids == h)[0]\n",
    "    bad_fitqun_file_ids = np.concatenate((bad_fitqun_file_ids, bad_indices), axis=None)"
   ]
  },
  {
   "cell_type": "code",
   "execution_count": 21,
   "id": "false-norwegian",
   "metadata": {},
   "outputs": [
    {
     "name": "stdout",
     "output_type": "stream",
     "text": [
      "(32945,)\n"
     ]
    }
   ],
   "source": [
    "print(bad_fitqun_file_ids.shape)"
   ]
  },
  {
   "cell_type": "code",
   "execution_count": 22,
   "id": "moved-cyprus",
   "metadata": {},
   "outputs": [
    {
     "name": "stdout",
     "output_type": "stream",
     "text": [
      "[  25703   25704   25705 ... 1737072 1737073 1737074]\n"
     ]
    }
   ],
   "source": [
    "print(bad_fitqun_file_ids)"
   ]
  },
  {
   "cell_type": "code",
   "execution_count": 23,
   "id": "tamil-addiction",
   "metadata": {},
   "outputs": [],
   "source": [
    "predictions = np.delete(predictions, bad_fitqun_file_ids)\n",
    "p_gamma = np.delete(p_gamma, bad_fitqun_file_ids)\n",
    "p_electron = np.delete(p_electron, bad_fitqun_file_ids)\n",
    "p_muon = np.delete(p_muon, bad_fitqun_file_ids)\n",
    "p_pion = np.delete(p_pion, bad_fitqun_file_ids)\n",
    "root_file_ids = np.delete(root_file_ids, bad_fitqun_file_ids)\n",
    "event_ids = np.delete(event_ids, bad_fitqun_file_ids)"
   ]
  },
  {
   "cell_type": "code",
   "execution_count": 24,
   "id": "executed-banana",
   "metadata": {},
   "outputs": [
    {
     "name": "stdout",
     "output_type": "stream",
     "text": [
      "1864349\n"
     ]
    }
   ],
   "source": [
    "print(len(predictions))"
   ]
  },
  {
   "cell_type": "markdown",
   "id": "framed-printing",
   "metadata": {},
   "source": [
    "## ROOT File "
   ]
  },
  {
   "cell_type": "code",
   "execution_count": 25,
   "id": "adapted-blond",
   "metadata": {
    "scrolled": false
   },
   "outputs": [],
   "source": [
    "with uproot.create(\"/home/hlahiouel/ml_output_root_files/watchmal_ml_outputs_4_class_model_may3.root\") as m:\n",
    "    \n",
    "    m[\"WatChMaL_ML_Outputs\"] = uproot.newtree({\"predictions\":\"int\",\n",
    "                                               \"p_gamma\":\"float32\",\n",
    "                                               \"p_electron\":\"float32\",\n",
    "                                               \"p_muon\":\"float32\",\n",
    "                                               \"p_pion\":\"float32\",\n",
    "                                               \"event_ids\":\"int\",\n",
    "                                               \"root_file_ids\":\"int\"})\n",
    "    \n",
    "    m[\"WatChMaL_ML_Outputs\"].extend({\"predictions\": predictions,\n",
    "                                     \"p_gamma\": p_gamma,\n",
    "                                     \"p_electron\": p_electron,\n",
    "                                     \"p_muon\": p_muon,\n",
    "                                     \"p_pion\": p_pion,\n",
    "                                     \"event_ids\": event_ids,\n",
    "                                     \"root_file_ids\": root_file_ids})"
   ]
  },
  {
   "cell_type": "code",
   "execution_count": 26,
   "id": "imported-messenger",
   "metadata": {},
   "outputs": [
    {
     "data": {
      "text/plain": [
       "<ROOTDirectory b'watchmal_ml_outputs_4_class_model_may3.root' at 0x7f73cc263940>"
      ]
     },
     "execution_count": 26,
     "metadata": {},
     "output_type": "execute_result"
    }
   ],
   "source": [
    "new_file = uproot.open(\"/home/hlahiouel/ml_output_root_files/watchmal_ml_outputs_4_class_model_may3.root\")\n",
    "new_file"
   ]
  },
  {
   "cell_type": "code",
   "execution_count": 27,
   "id": "fossil-reunion",
   "metadata": {
    "scrolled": true
   },
   "outputs": [
    {
     "data": {
      "text/plain": [
       "array([2, 2, 2, ..., 3, 2, 1])"
      ]
     },
     "execution_count": 27,
     "metadata": {},
     "output_type": "execute_result"
    }
   ],
   "source": [
    "new_file[\"WatChMaL_ML_Outputs\"].array(\"predictions\")"
   ]
  },
  {
   "cell_type": "code",
   "execution_count": 28,
   "id": "raising-acoustic",
   "metadata": {},
   "outputs": [
    {
     "data": {
      "text/plain": [
       "array([1.5350467e-03, 2.4308825e-02, 2.0417191e-08, ..., 0.0000000e+00,\n",
       "       6.4750738e-02, 2.4978484e-01], dtype=float32)"
      ]
     },
     "execution_count": 28,
     "metadata": {},
     "output_type": "execute_result"
    }
   ],
   "source": [
    "new_file[\"WatChMaL_ML_Outputs\"].array(\"p_gamma\")"
   ]
  },
  {
   "cell_type": "code",
   "execution_count": 29,
   "id": "strange-allergy",
   "metadata": {},
   "outputs": [
    {
     "data": {
      "text/plain": [
       "array([  0,   1,   2, ..., 350, 351, 352])"
      ]
     },
     "execution_count": 29,
     "metadata": {},
     "output_type": "execute_result"
    }
   ],
   "source": [
    "new_file[\"WatChMaL_ML_Outputs\"].array(\"event_ids\")"
   ]
  },
  {
   "cell_type": "code",
   "execution_count": 30,
   "id": "fifty-substance",
   "metadata": {},
   "outputs": [
    {
     "data": {
      "text/plain": [
       "array([   0,    0,    0, ..., 9968, 9968, 9968])"
      ]
     },
     "execution_count": 30,
     "metadata": {},
     "output_type": "execute_result"
    }
   ],
   "source": [
    "new_file[\"WatChMaL_ML_Outputs\"].array(\"root_file_ids\")"
   ]
  },
  {
   "cell_type": "code",
   "execution_count": null,
   "id": "inner-carry",
   "metadata": {},
   "outputs": [],
   "source": [
    "fitqun_file = uproot.open(\"/home/hlahiouel/physics_samples/root_files/iwcd_p320ka_w750m_1e17pot_2p39_fitqun.00000.root\")\n",
    "fitqun_file"
   ]
  },
  {
   "cell_type": "code",
   "execution_count": null,
   "id": "lined-walnut",
   "metadata": {},
   "outputs": [],
   "source": [
    "fitqun_file.keys()"
   ]
  },
  {
   "cell_type": "code",
   "execution_count": null,
   "id": "recreational-national",
   "metadata": {},
   "outputs": [],
   "source": [
    "fitqun_file['fiTQun']"
   ]
  },
  {
   "cell_type": "code",
   "execution_count": null,
   "id": "joined-screening",
   "metadata": {},
   "outputs": [],
   "source": [
    "fitqun_file['fiTQun'].keys()"
   ]
  },
  {
   "cell_type": "code",
   "execution_count": null,
   "id": "touched-progress",
   "metadata": {},
   "outputs": [],
   "source": []
  }
 ],
 "metadata": {
  "kernelspec": {
   "display_name": "Python 3",
   "language": "python",
   "name": "python3"
  },
  "language_info": {
   "codemirror_mode": {
    "name": "ipython",
    "version": 3
   },
   "file_extension": ".py",
   "mimetype": "text/x-python",
   "name": "python",
   "nbconvert_exporter": "python",
   "pygments_lexer": "ipython3",
   "version": "3.8.5"
  }
 },
 "nbformat": 4,
 "nbformat_minor": 5
}
