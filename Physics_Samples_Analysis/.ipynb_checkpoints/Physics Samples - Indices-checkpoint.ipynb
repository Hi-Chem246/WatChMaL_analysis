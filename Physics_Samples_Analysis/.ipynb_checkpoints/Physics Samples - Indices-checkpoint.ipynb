{
 "cells": [
  {
   "cell_type": "markdown",
   "metadata": {},
   "source": [
    "# Dataset Index Generation \n",
    "\n",
    "This is used to generate the indices for the test set for the Physics samples. "
   ]
  },
  {
   "cell_type": "code",
   "execution_count": 1,
   "metadata": {},
   "outputs": [],
   "source": [
    "import sys\n",
    "import os\n",
    "import h5py\n",
    "from collections import Counter\n",
    "from progressbar import *\n",
    "import re\n",
    "import numpy as np\n",
    "from scipy import signal\n",
    "import matplotlib.pyplot as plt \n",
    "from functools import reduce\n",
    "\n",
    "# Add the path to the parent directory to augment search for module\n",
    "par_dir = os.path.abspath(os.path.join(os.getcwd(), os.pardir))\n",
    "\n",
    "if par_dir not in sys.path:\n",
    "    sys.path.append(par_dir)\n",
    "\n",
    "sys.path.append(\"../..\")\n",
    "sys.path.append(\"..\")\n",
    "\n",
    "%load_ext autoreload\n",
    "%matplotlib inline\n",
    "%autoreload 2\n",
    "\n",
    "from IPython.display import HTML"
   ]
  },
  {
   "cell_type": "code",
   "execution_count": 2,
   "metadata": {},
   "outputs": [],
   "source": [
    "data_path = \"/fast_scratch/WatChMaL/data/physics_samples_five_thousand_files_apr28.h5\"\n",
    "\n",
    "f = h5py.File(data_path, \"r\")"
   ]
  },
  {
   "cell_type": "code",
   "execution_count": 3,
   "metadata": {},
   "outputs": [
    {
     "name": "stdout",
     "output_type": "stream",
     "text": [
      "<KeysViewHDF5 ['angles', 'energies', 'event_hits_index', 'event_ids', 'hit_charge', 'hit_pmt', 'hit_time', 'labels', 'positions', 'root_files', 'veto', 'veto2']>\n",
      "<HDF5 dataset \"angles\": shape (1897294, 2), type \"<f4\">\n",
      "<HDF5 dataset \"energies\": shape (1897294, 1), type \"<f4\">\n",
      "<HDF5 dataset \"event_hits_index\": shape (1897294,), type \"<i8\">\n",
      "<HDF5 dataset \"event_ids\": shape (1897294,), type \"<i4\">\n",
      "<HDF5 dataset \"hit_charge\": shape (2090271258,), type \"<f4\">\n",
      "<HDF5 dataset \"hit_pmt\": shape (2090271258,), type \"<i4\">\n",
      "<HDF5 dataset \"hit_time\": shape (2090271258,), type \"<f4\">\n",
      "<HDF5 dataset \"labels\": shape (1897294,), type \"<i4\">\n",
      "<HDF5 dataset \"positions\": shape (1897294, 1, 3), type \"<f4\">\n",
      "<HDF5 dataset \"root_files\": shape (1897294,), type \"|O\">\n",
      "<HDF5 dataset \"veto\": shape (1897294,), type \"|b1\">\n",
      "<HDF5 dataset \"veto2\": shape (1897294,), type \"|b1\">\n"
     ]
    }
   ],
   "source": [
    "print(f.keys())\n",
    "\n",
    "for key in f.keys():\n",
    "    print(f[key])"
   ]
  },
  {
   "cell_type": "code",
   "execution_count": 4,
   "metadata": {},
   "outputs": [],
   "source": [
    "hdf5_hit_pmt = f[\"hit_pmt\"]\n",
    "hdf5_hit_time = f[\"hit_time\"]\n",
    "hdf5_hit_charge = f[\"hit_charge\"]"
   ]
  },
  {
   "cell_type": "code",
   "execution_count": 5,
   "metadata": {},
   "outputs": [],
   "source": [
    "hit_pmt = np.memmap(data_path, mode=\"r\", shape=hdf5_hit_pmt.shape,\n",
    "                                    offset=hdf5_hit_pmt.id.get_offset(), dtype=hdf5_hit_pmt.dtype)\n",
    "\n",
    "hit_time = np.memmap(data_path, mode=\"r\", shape=hdf5_hit_time.shape,\n",
    "                                    offset=hdf5_hit_time.id.get_offset(), dtype=hdf5_hit_time.dtype)\n",
    "\n",
    "hit_charge = np.memmap(data_path, mode=\"r\", shape=hdf5_hit_charge.shape,\n",
    "                                    offset=hdf5_hit_charge.id.get_offset(), dtype=hdf5_hit_charge.dtype)"
   ]
  },
  {
   "cell_type": "code",
   "execution_count": 6,
   "metadata": {},
   "outputs": [],
   "source": [
    "angles     = np.array(f['angles'])\n",
    "energies   = np.array(f['energies'])\n",
    "positions  = np.array(f['positions'])\n",
    "labels     = np.array(f['labels'])\n",
    "root_files = np.array(f['root_files'])\n",
    "veto = np.array(f['veto'])\n",
    "veto2 = np.array(f['veto2'])"
   ]
  },
  {
   "cell_type": "code",
   "execution_count": 7,
   "metadata": {},
   "outputs": [
    {
     "name": "stdout",
     "output_type": "stream",
     "text": [
      "[[[ -247.50923  -2050.8457      94.77088 ]]\n",
      "\n",
      " [[  -46.375065 -1879.7782    -278.02145 ]]\n",
      "\n",
      " [[  285.2023   -2202.5671     265.48422 ]]\n",
      "\n",
      " ...\n",
      "\n",
      " [[ -345.21408  -2302.003     -148.44632 ]]\n",
      "\n",
      " [[  -24.09766  -2189.0469     270.51706 ]]\n",
      "\n",
      " [[ -251.45122  -2303.6245      98.18861 ]]]\n"
     ]
    }
   ],
   "source": [
    "print(positions)"
   ]
  },
  {
   "cell_type": "code",
   "execution_count": null,
   "metadata": {},
   "outputs": [],
   "source": [
    "# Set up indices\n",
    "indices = np.array(range(len(labels)))\n",
    "\n",
    "# Set up dict of file indices\n",
    "file_dict = dict.fromkeys(root_files)\n",
    "print(\"Dict set\")\n",
    "\n",
    "for file in file_dict.keys():\n",
    "    file_dict[file] = []\n",
    "\n",
    "for idx, root_file in enumerate(root_files):\n",
    "    file_dict[root_file].append(idx)\n",
    "print(\"Done\")"
   ]
  },
  {
   "cell_type": "code",
   "execution_count": null,
   "metadata": {
    "scrolled": true
   },
   "outputs": [],
   "source": [
    "# Get files associated with each particle type\n",
    "\n",
    "samples_indices = indices[np.where(labels == -1)]\n",
    "samples_root_file_set = list(dict.fromkeys(root_files[samples_indices]))\n",
    "\n",
    "print(samples_root_file_set)\n",
    "print(len(samples_root_file_set))"
   ]
  },
  {
   "cell_type": "code",
   "execution_count": null,
   "metadata": {},
   "outputs": [],
   "source": [
    "def get_indices_for_files(file_names):\n",
    "    all_indices = []\n",
    "    for file_name in file_names:\n",
    "        all_indices.extend(file_dict[file_name])\n",
    "    return np.array(all_indices)"
   ]
  },
  {
   "cell_type": "code",
   "execution_count": null,
   "metadata": {},
   "outputs": [],
   "source": [
    "samples_test_files = samples_root_file_set[:]\n",
    "\n",
    "samples_test_set = get_indices_for_files(samples_test_files)\n",
    "\n",
    "print(samples_test_set)\n",
    "print(len(samples_test_set))\n",
    "print(np.array_equal(samples_test_set,indices))"
   ]
  },
  {
   "cell_type": "code",
   "execution_count": null,
   "metadata": {},
   "outputs": [],
   "source": [
    "np.savez('/home/hlahiouel/physics_samples_five_thousand_files_apr28.npz', test_idxs=samples_test_set)"
   ]
  },
  {
   "cell_type": "code",
   "execution_count": null,
   "metadata": {},
   "outputs": [],
   "source": []
  }
 ],
 "metadata": {
  "kernelspec": {
   "display_name": "Python 3",
   "language": "python",
   "name": "python3"
  },
  "language_info": {
   "codemirror_mode": {
    "name": "ipython",
    "version": 3
   },
   "file_extension": ".py",
   "mimetype": "text/x-python",
   "name": "python",
   "nbconvert_exporter": "python",
   "pygments_lexer": "ipython3",
   "version": "3.8.5"
  }
 },
 "nbformat": 4,
 "nbformat_minor": 4
}
