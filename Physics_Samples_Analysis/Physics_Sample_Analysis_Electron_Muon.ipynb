{
 "cells": [
  {
   "cell_type": "markdown",
   "metadata": {},
   "source": [
    "# Analysis of Physics Samples "
   ]
  },
  {
   "cell_type": "code",
   "execution_count": 1,
   "metadata": {},
   "outputs": [],
   "source": [
    "%load_ext autoreload\n",
    "%matplotlib inline\n",
    "%autoreload 2"
   ]
  },
  {
   "cell_type": "code",
   "execution_count": 2,
   "metadata": {},
   "outputs": [],
   "source": [
    "import numpy as np\n",
    "import matplotlib.pyplot as plt\n",
    "import os\n",
    "import sys"
   ]
  },
  {
   "cell_type": "code",
   "execution_count": 3,
   "metadata": {},
   "outputs": [],
   "source": [
    "sys.path.append(\"..\")\n",
    "\n",
    "from WatChMaL.analysis.multi_plot_utils import multi_disp_learn_hist, multi_compute_roc, multi_plot_roc\n",
    "from WatChMaL.analysis.comparison_utils import multi_get_masked_data, multi_collapse_test_output\n",
    "from WatChMaL.analysis.plot_utils import plot_classifier_response, plot_reduced_classifier_response"
   ]
  },
  {
   "cell_type": "code",
   "execution_count": 4,
   "metadata": {},
   "outputs": [],
   "source": [
    "#label_dict         = {\"$\\gamma$\":0, \"$e$\":1, \"$\\mu$\":2, '$\\pi^0$':3}\n",
    "#inverse_label_dict = {0:\"$\\gamma$\", 1:\"$e$\", 2:\"$\\mu$\", 3:'$\\pi^0$'}\n",
    "\n",
    "#muon_softmax_index_dict = {\"non-mu\":0, \"mu\":1}\n",
    "\n",
    "c = plt.rcParams['axes.prop_cycle'].by_key()['color']"
   ]
  },
  {
   "cell_type": "markdown",
   "metadata": {},
   "source": [
    "## Load 4-class model and the associated data"
   ]
  },
  {
   "cell_type": "code",
   "execution_count": 5,
   "metadata": {
    "scrolled": true
   },
   "outputs": [
    {
     "name": "stdout",
     "output_type": "stream",
     "text": [
      "[array([[1.0000000e+00, 1.6195274e-10],\n",
      "       [1.0000000e+00, 1.4664103e-09],\n",
      "       [1.0000000e+00, 3.1690448e-09],\n",
      "       ...,\n",
      "       [1.0000000e+00, 3.8671750e-14],\n",
      "       [1.0000000e+00, 7.2171312e-19],\n",
      "       [1.0000000e+00, 3.7208225e-17]], dtype=float32)]\n",
      "[array([0, 0, 0, ..., 0, 0, 0])]\n"
     ]
    }
   ],
   "source": [
    "locs_4_updated_class = ['/home/hlahiouel/WatChMaL/outputs/2021-03-25/13-41-57/outputs']\n",
    "\n",
    "titles_4_updated_class = ['Physics Sample']\n",
    "\n",
    "#linecolor_4_updated_class = [c[2] for _ in locs_4_updated_class]\n",
    "#linestyle_4_updated_class = ['-' for _ in locs_4_updated_class]\n",
    "\n",
    "raw_output_softmax_4_updated_class = [np.load(loc + \"/softmax.npy\") for loc in locs_4_updated_class]\n",
    "\n",
    "print(raw_output_softmax_4_updated_class)\n",
    "\n",
    "raw_actual_labels_4_updated_class  = [np.load(loc + \"/labels.npy\") for loc in locs_4_updated_class]\n",
    "\n",
    "print(raw_actual_labels_4_updated_class)\n",
    "\n",
    "raw_actual_indices_4_updated_class = [np.load(loc + \"/indices.npy\") for loc in locs_4_updated_class]\n",
    "\n",
    "raw_actual_predictions_4_updated_class = [np.load(loc + \"/predictions.npy\") for loc in locs_4_updated_class]"
   ]
  },
  {
   "cell_type": "code",
   "execution_count": 7,
   "metadata": {},
   "outputs": [
    {
     "name": "stdout",
     "output_type": "stream",
     "text": [
      "[]\n"
     ]
    }
   ],
   "source": [
    "#pred_gamma = np.where(raw_actual_predictions_4_updated_class[0] == 0)[0]\n",
    "pred_e     = np.where(raw_actual_predictions_4_updated_class[0] == 1)[0]\n",
    "pred_muon  = np.where(raw_actual_predictions_4_updated_class[0] == 2)[0]\n",
    "print(pred_muon)\n",
    "#pred_pion  = np.where(raw_actual_predictions_4_updated_class[0] == 3)[0]"
   ]
  },
  {
   "cell_type": "code",
   "execution_count": null,
   "metadata": {},
   "outputs": [],
   "source": [
    "softmax = raw_output_softmax_4_updated_class[0]"
   ]
  },
  {
   "cell_type": "code",
   "execution_count": null,
   "metadata": {},
   "outputs": [],
   "source": [
    "x1 = softmax[pred_gamma,3]\n",
    "x2 = softmax[pred_e,3]\n",
    "x3 = softmax[pred_muon,3]\n",
    "x4 = softmax[pred_pion,3]"
   ]
  },
  {
   "cell_type": "code",
   "execution_count": null,
   "metadata": {
    "scrolled": false
   },
   "outputs": [],
   "source": [
    "plt.figure()\n",
    "n, bins, patches = plt.hist([x1,x2,x3,x4], stacked=True, color=[\"red\",\"blue\",\"green\",\"black\"])\n",
    "plt.yscale(\"log\")\n",
    "plt.xlabel(\"P($\\pi^0$)\")\n",
    "plt.ylabel(\"Number of events\")\n",
    "plt.legend([\"Predicted Gamma events\",\"Predicted Electron events\", \"Predicted Muon events\",\"Predicted Pion events\"])\n",
    "plt.show()"
   ]
  },
  {
   "cell_type": "code",
   "execution_count": null,
   "metadata": {},
   "outputs": [],
   "source": []
  }
 ],
 "metadata": {
  "kernelspec": {
   "display_name": "Python 3",
   "language": "python",
   "name": "python3"
  },
  "language_info": {
   "codemirror_mode": {
    "name": "ipython",
    "version": 3
   },
   "file_extension": ".py",
   "mimetype": "text/x-python",
   "name": "python",
   "nbconvert_exporter": "python",
   "pygments_lexer": "ipython3",
   "version": "3.8.5"
  }
 },
 "nbformat": 4,
 "nbformat_minor": 4
}
