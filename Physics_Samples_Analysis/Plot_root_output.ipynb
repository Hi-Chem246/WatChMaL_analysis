{
 "cells": [
  {
   "cell_type": "code",
   "execution_count": null,
   "metadata": {},
   "outputs": [],
   "source": [
    "import uproot3 as uproot\n",
    "import numpy as np\n",
    "import awkward as ak"
   ]
  },
  {
   "cell_type": "code",
   "execution_count": null,
   "metadata": {},
   "outputs": [],
   "source": [
    "import numpy as np\n",
    "import matplotlib\n",
    "import matplotlib.pyplot as plt\n",
    "%matplotlib inline"
   ]
  },
  {
   "cell_type": "code",
   "execution_count": null,
   "metadata": {},
   "outputs": [],
   "source": [
    "filename = \"\"\n",
    "file = uproot.open(filename)\n",
    "file"
   ]
  },
  {
   "cell_type": "code",
   "execution_count": null,
   "metadata": {},
   "outputs": [],
   "source": [
    "file.keys()"
   ]
  },
  {
   "cell_type": "code",
   "execution_count": null,
   "metadata": {},
   "outputs": [],
   "source": [
    "def rebin(array, time): \n",
    "    m, n = array.shape \n",
    "    N = n/time \n",
    "    if N==int(N):\n",
    "        N=int(N)\n",
    "        rebinned = np.array([np.sum(array[:,time*k:time*k+time], axis =1).reshape(m, -1)/time for k in range(N)])\n",
    "        return rebinned.reshape(N,-1).T\n",
    "    else: return \"error binning\""
   ]
  },
  {
   "cell_type": "code",
   "execution_count": null,
   "metadata": {},
   "outputs": [],
   "source": [
    "def plot_stack(class_softmax):\n",
    "    filename = \"\"\n",
    "    file = uproot.open(filename)\n",
    "    legends = [str(key)[2:-3] for key in file.keys() if key not in (b'purity_enu;1', b'efficiency_enu;1', b'selected_events;1')]\n",
    "    data = np.array([file[key].numpy()[0] for key in file.keys() if key not in (b'purity_enu;1', b'efficiency_enu;1', b'selected_events;1')])\n",
    "    bins = np.array([file[key].numpy()[1] for key in file.keys() if key not in (b'purity_enu;1', b'efficiency_enu;1', b'selected_events;1')])\n",
    "    centers = bins[:, :-1]+np.diff(bins)/2\n",
    "    fig, ax = plt.subplots(figsize = (8,6))\n",
    "    ax.hist(list(centers), bins=bins[0], weights=list(data), stacked=True, fill=True)\n",
    "    ax.legend(legends)\n",
    "    ax.set_title(\"class \"+ class_softmax)\n",
    "    #if class_softmax=='mu':\n",
    "        #ax.set_ylim([0,100])\n",
    "    return fig, ax"
   ]
  },
  {
   "cell_type": "code",
   "execution_count": null,
   "metadata": {},
   "outputs": [],
   "source": [
    "for el in ['e','mu','gamma']:\n",
    "    A = plot_stack(el)"
   ]
  },
  {
   "cell_type": "code",
   "execution_count": null,
   "metadata": {},
   "outputs": [],
   "source": [
    "def plot_not_stack(class_softmax, rebin_time):\n",
    "    filename = \"output_1ringe_analysis_prob_\"+class_softmax+ \".root\"\n",
    "    file = uproot.open(filename)\n",
    "    legends = [str(key)[2:-3] for key in file.keys() if key not in (b'purity_enu;1', b'efficiency_enu;1', b'selected_events;1')]\n",
    "    data = np.array([file[key].numpy()[0] for key in file.keys() if key not in (b'purity_enu;1', b'efficiency_enu;1', b'selected_events;1')])\n",
    "    bins = np.array([file[key].numpy()[1] for key in file.keys() if key not in (b'purity_enu;1', b'efficiency_enu;1', b'selected_events;1')])\n",
    "    centers = bins[:, :-1]+np.diff(bins)/2\n",
    "    \n",
    "    components = len(legends)\n",
    "    \n",
    "    normed_data = data/np.sum(data, axis=1).reshape(data.shape[0],1)\n",
    "    \n",
    "    \n",
    "    normed_data = rebin(normed_data, rebin_time)\n",
    "    centers = rebin(centers, rebin_time)\n",
    "    d = np.diff(centers)[:, 0].reshape(components, 1)\n",
    "    bins = np.concatenate([np.zeros((components,1)), centers+d/2], axis=1)\n",
    "    \n",
    "    Dots_plot = False\n",
    "    if Dots_plot:\n",
    "        fig, ax = plt.subplots(figsize = (16,12))   \n",
    "        for component in range(components):\n",
    "            plt.plot(centers[component], normed_data[component], 'o-')\n",
    "        plt.legend(legends)\n",
    "        plt.title(\"class \"+class_softmax)\n",
    "        plt.savefig('true_comp_'+class_softmax+'_'+str(int(50/rebin_time))+'_bins.pdf')\n",
    "    \n",
    "    histo_plot =True\n",
    "    \n",
    "    if histo_plot:\n",
    "        fig, ax = plt.subplots(figsize = (16,12))\n",
    "\n",
    "        for component in range(components):\n",
    "            ax.hist(centers[0], bins=bins[0], weights=normed_data[component], label = legends[component], histtype = 'step', linewidth=1.5)\n",
    "        ax.legend()"
   ]
  },
  {
   "cell_type": "code",
   "execution_count": null,
   "metadata": {},
   "outputs": [],
   "source": [
    "for el in ['e','mu','gamma']:\n",
    "    B = plot_not_stack(el, 5)"
   ]
  },
  {
   "cell_type": "code",
   "execution_count": null,
   "metadata": {},
   "outputs": [],
   "source": []
  }
 ],
 "metadata": {
  "kernelspec": {
   "display_name": "Python 3",
   "language": "python",
   "name": "python3"
  },
  "language_info": {
   "codemirror_mode": {
    "name": "ipython",
    "version": 3
   },
   "file_extension": ".py",
   "mimetype": "text/x-python",
   "name": "python",
   "nbconvert_exporter": "python",
   "pygments_lexer": "ipython3",
   "version": "3.8.5"
  }
 },
 "nbformat": 4,
 "nbformat_minor": 4
}
