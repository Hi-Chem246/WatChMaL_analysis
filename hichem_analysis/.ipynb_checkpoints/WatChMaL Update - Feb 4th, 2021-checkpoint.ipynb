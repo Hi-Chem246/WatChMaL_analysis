{
 "cells": [
  {
   "cell_type": "markdown",
   "metadata": {},
   "source": [
    "# Data Analysis - Feb 3rd, 2021"
   ]
  },
  {
   "cell_type": "code",
   "execution_count": 1,
   "metadata": {},
   "outputs": [],
   "source": [
    "%load_ext autoreload\n",
    "%matplotlib inline\n",
    "%autoreload 2"
   ]
  },
  {
   "cell_type": "code",
   "execution_count": 2,
   "metadata": {},
   "outputs": [],
   "source": [
    "import numpy as np\n",
    "import matplotlib.pyplot as plt\n",
    "import os\n",
    "import sys"
   ]
  },
  {
   "cell_type": "code",
   "execution_count": 6,
   "metadata": {},
   "outputs": [
    {
     "ename": "SyntaxError",
     "evalue": "invalid syntax (multi_plot_utils.py, line 1)",
     "output_type": "error",
     "traceback": [
      "Traceback \u001b[0;36m(most recent call last)\u001b[0m:\n",
      "  File \u001b[1;32m\"/opt/conda/lib/python3.6/site-packages/IPython/core/interactiveshell.py\"\u001b[0m, line \u001b[1;32m3343\u001b[0m, in \u001b[1;35mrun_code\u001b[0m\n    exec(code_obj, self.user_global_ns, self.user_ns)\n",
      "\u001b[0;36m  File \u001b[0;32m\"<ipython-input-6-414a27acace9>\"\u001b[0;36m, line \u001b[0;32m3\u001b[0;36m, in \u001b[0;35m<module>\u001b[0;36m\u001b[0m\n\u001b[0;31m    from WatChMaL.analysis.multi_plot_utils import multi_disp_learn_hist, multi_compute_roc, multi_plot_roc\u001b[0m\n",
      "\u001b[0;36m  File \u001b[0;32m\"../WatChMaL/analysis/multi_plot_utils.py\"\u001b[0;36m, line \u001b[0;32m1\u001b[0m\n\u001b[0;31m    <<<<<<< HEAD\u001b[0m\n\u001b[0m     ^\u001b[0m\n\u001b[0;31mSyntaxError\u001b[0m\u001b[0;31m:\u001b[0m invalid syntax\n"
     ]
    }
   ],
   "source": [
    "sys.path.append(\"..\")\n",
    "\n",
    "from WatChMaL.analysis.multi_plot_utils import multi_disp_learn_hist, multi_compute_roc, multi_plot_roc\n",
    "from WatChMaL.analysis.comparison_utils import multi_get_masked_data, multi_collapse_test_output\n",
    "\n",
    "#from testing.test_utils import load_test_output_pn"
   ]
  },
  {
   "cell_type": "code",
   "execution_count": 7,
   "metadata": {},
   "outputs": [],
   "source": [
    "############# define plotting params #############\n",
    "\n",
    "c = plt.rcParams['axes.prop_cycle'].by_key()['color']\n",
    "label_dict = {\"$\\gamma$\":0, \"$e$\":1, \"$\\mu$\":2}\n",
    "inverse_label_dict = {0:\"$\\gamma$\", 1:\"$e$\", 2:\"$\\mu$\"}"
   ]
  },
  {
   "cell_type": "code",
   "execution_count": null,
   "metadata": {},
   "outputs": [],
   "source": [
    "############# define run locations #############\n",
    "\n",
    "short_locs = [\n",
    "               '/home/hlahiouel/WatChMaL_analysis/WatChMaL/outputs/2021-01-22/08-33-03/outputs',\n",
    "               '/home/hlahiouel/WatChMaL_analysis/WatChMaL/outputs/2021-01-26/06-54-31/outputs',\n",
    "               '/home/hlahiouel/WatChMaL_analysis/WatChMaL/outputs/2021-01-27/17-02-44/outputs',\n",
    "               '/home/hlahiouel/WatChMaL_analysis/WatChMaL/outputs/2021-02-01/10-10-25/outputs',\n",
    "               '/home/hlahiouel/WatChMaL_analysis/WatChMaL/outputs/2021-02-02/17-39-42/outputs',\n",
    "               '/home/hlahiouel/WatChMaL_analysis/WatChMaL/outputs/2021-02-02/18-08-03/outputs'\n",
    "             ]\n",
    "\n",
    "short_titles = [\n",
    "                'Short Tank: 3 Classes - Jan 22',\n",
    "                'Short Tank: 3 Classes - Jan 26',\n",
    "                'Short Tank: 2 Classes - Jan 27',\n",
    "                'Short Tank: 2 Classes - Feb 1'\n",
    "                'Short Tank: 4 Classes - Feb 2',\n",
    "                'Short Tank: 4 Classes - Feb 2'\n",
    "               ]\n",
    "\n",
    "short_linecolor = [c[0] for _ in short_locs]\n",
    "short_linestyle = ['--' for _ in short_locs]"
   ]
  },
  {
   "cell_type": "code",
   "execution_count": null,
   "metadata": {},
   "outputs": [],
   "source": [
    "locs = short_locs\n",
    "titles = short_titles\n",
    "linecolor = short_linecolor\n",
    "linestyle = short_linestyle"
   ]
  },
  {
   "cell_type": "code",
   "execution_count": null,
   "metadata": {},
   "outputs": [],
   "source": [
    "############# load short tank run data #############\n",
    "\n",
    "short_raw_output_softmax    = [np.load(loc + \"/softmax.npy\") for loc in short_locs]\n",
    "short_raw_actual_labels    = [np.load(loc + \"/labels.npy\") for loc in short_locs]"
   ]
  },
  {
   "cell_type": "code",
   "execution_count": null,
   "metadata": {},
   "outputs": [],
   "source": [
    "############# compute short tank multi e/gamma ROC #############\n",
    "\n",
    "short_fprs, short_tprs, short_thrs = multi_compute_roc(short_raw_output_softmax, short_raw_actual_labels, \n",
    "                                     true_label=label_dict[\"$e$\"], \n",
    "                                     false_label=label_dict[\"$\\gamma$\"])"
   ]
  },
  {
   "cell_type": "code",
   "execution_count": null,
   "metadata": {},
   "outputs": [],
   "source": [
    "############# combine short and long results #############\n",
    "\n",
    "fprs =  short_fprs \n",
    "tprs = short_tprs \n",
    "thrs = short_thrs"
   ]
  },
  {
   "cell_type": "code",
   "execution_count": null,
   "metadata": {},
   "outputs": [],
   "source": [
    "figs = multi_plot_roc(fprs, tprs, thrs, \"$e$\", \"$\\gamma$\", \n",
    "                      fig_list=[1], ylims=[[0,3e6]], \n",
    "                      linestyles=linestyle,linecolors=linecolor, \n",
    "                      plot_labels=titles, show=False)"
   ]
  },
  {
   "cell_type": "code",
   "execution_count": null,
   "metadata": {},
   "outputs": [],
   "source": [
    "############# compute short multi e/mu ROC #############\n",
    "\n",
    "short_fprs, short_tprs, short_thrs = multi_compute_roc(short_raw_output_softmax, short_raw_actual_labels, \n",
    "                                     true_label=label_dict[\"$e$\"], \n",
    "                                     false_label=label_dict[\"$\\mu$\"])"
   ]
  },
  {
   "cell_type": "code",
   "execution_count": null,
   "metadata": {},
   "outputs": [],
   "source": [
    "############# combine short and long results #############\n",
    "\n",
    "fprs =  short_fprs\n",
    "tprs = short_tprs\n",
    "thrs = short_thrs"
   ]
  },
  {
   "cell_type": "code",
   "execution_count": null,
   "metadata": {},
   "outputs": [],
   "source": [
    "figs = multi_plot_roc(fprs, tprs, thrs, \"$e$\", \"$\\mu$\", fig_list=[1], \n",
    "                      linestyles=linestyle,linecolors=linecolor, show=False)"
   ]
  },
  {
   "cell_type": "code",
   "execution_count": null,
   "metadata": {},
   "outputs": [],
   "source": [
    "muon_softmax_index_dict = {\"e/gamma\":0, \"mu\":1}"
   ]
  },
  {
   "cell_type": "code",
   "execution_count": null,
   "metadata": {},
   "outputs": [],
   "source": [
    "############# compute short collapsed ROC #############\n",
    "\n",
    "short_collapsed_class_scores_list, short_collapsed_class_labels_list = multi_collapse_test_output(short_raw_output_softmax, short_raw_actual_labels, label_dict, ignore_type='$\\gamma$')\n",
    "\n",
    "short_collapsed_class_labels_list = [collapsed_class_labels - 1 for collapsed_class_labels in short_collapsed_class_labels_list]\n",
    "short_collapsed_class_scores_list = [collapsed_class_scores[:,1:] for collapsed_class_scores in short_collapsed_class_scores_list]"
   ]
  },
  {
   "cell_type": "code",
   "execution_count": null,
   "metadata": {},
   "outputs": [],
   "source": [
    "short_fpr_list, short_tpr_list, short_thr_list = multi_compute_roc(short_collapsed_class_scores_list, short_collapsed_class_labels_list, \n",
    "                            true_label=muon_softmax_index_dict[\"e/gamma\"], \n",
    "                            false_label=muon_softmax_index_dict[\"mu\"])"
   ]
  },
  {
   "cell_type": "code",
   "execution_count": null,
   "metadata": {},
   "outputs": [],
   "source": [
    "############# combine short and long results #############\n",
    "\n",
    "fpr_list = short_fpr_list\n",
    "tpr_list = short_tpr_list\n",
    "thr_list = short_thr_list"
   ]
  },
  {
   "cell_type": "code",
   "execution_count": null,
   "metadata": {},
   "outputs": [],
   "source": [
    "figs = multi_plot_roc(fpr_list, tpr_list, thr_list,\"e/gamma\", \"mu\", \n",
    "                      fig_list=[1], ylims=[[0,3e6]], \n",
    "                      linestyles=linestyle,linecolors=linecolor, plot_labels=titles, show=False)"
   ]
  }
 ],
 "metadata": {
  "kernelspec": {
   "display_name": "Python 3",
   "language": "python",
   "name": "python3"
  },
  "language_info": {
   "codemirror_mode": {
    "name": "ipython",
    "version": 3
   },
   "file_extension": ".py",
   "mimetype": "text/x-python",
   "name": "python",
   "nbconvert_exporter": "python",
   "pygments_lexer": "ipython3",
   "version": "3.6.10"
  }
 },
 "nbformat": 4,
 "nbformat_minor": 4
}
