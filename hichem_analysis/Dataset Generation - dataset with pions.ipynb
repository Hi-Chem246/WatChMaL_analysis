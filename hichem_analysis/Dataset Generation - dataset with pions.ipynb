{
 "cells": [
  {
   "cell_type": "markdown",
   "metadata": {},
   "source": [
    "# Dataset Generation - include Pions\n",
    "\n",
    "This is used to generate the indices for the training, validation, and test sets for the dataset including pions. "
   ]
  },
  {
   "cell_type": "code",
   "execution_count": 2,
   "metadata": {},
   "outputs": [],
   "source": [
    "import sys\n",
    "import os\n",
    "import h5py\n",
    "from collections import Counter\n",
    "from progressbar import *\n",
    "import re\n",
    "import numpy as np\n",
    "from scipy import signal\n",
    "import matplotlib\n",
    "from functools import reduce\n",
    "\n",
    "# Add the path to the parent directory to augment search for module\n",
    "par_dir = os.path.abspath(os.path.join(os.getcwd(), os.pardir))\n",
    "\n",
    "if par_dir not in sys.path:\n",
    "    sys.path.append(par_dir)\n",
    "\n",
    "sys.path.append(\"../..\")\n",
    "sys.path.append(\"..\")\n",
    "\n",
    "\n",
    "%load_ext autoreload\n",
    "%matplotlib inline\n",
    "%autoreload 2\n",
    "\n",
    "from IPython.display import HTML"
   ]
  },
  {
   "cell_type": "markdown",
   "metadata": {},
   "source": [
    "## Load Dataset"
   ]
  },
  {
   "cell_type": "code",
   "execution_count": 3,
   "metadata": {},
   "outputs": [
    {
     "name": "stdout",
     "output_type": "stream",
     "text": [
      "<KeysViewHDF5 ['angles', 'energies', 'event_hits_index', 'event_ids', 'hit_charge', 'hit_pmt', 'hit_time', 'labels', 'positions', 'root_files', 'veto', 'veto2']>\n",
      "<KeysViewHDF5 ['angles', 'energies', 'event_hits_index', 'event_ids', 'hit_charge', 'hit_pmt', 'hit_time', 'labels', 'positions', 'root_files', 'veto', 'veto2']>\n"
     ]
    }
   ],
   "source": [
    "original_data_path = \"/fast_scratch/WatChMaL/data/IWCD_mPMT_Short_emg_E0to1000MeV_digihits.h5\"\n",
    "pions_data_path = \"/fast_scratch/WatChMaL/data/IWCD_mPMT_Short_pi0_E0to1000MeV_digihits.h5\"\n",
    "\n",
    "f = h5py.File(original_data_path, \"r\")\n",
    "p = h5py.File(pions_data_path, \"r\")\n",
    "\n",
    "print(f.keys())\n",
    "print(p.keys())"
   ]
  },
  {
   "cell_type": "code",
   "execution_count": 4,
   "metadata": {},
   "outputs": [
    {
     "name": "stdout",
     "output_type": "stream",
     "text": [
      "<HDF5 dataset \"event_hits_index\": shape (20613195,), type \"<i8\">\n",
      "<HDF5 dataset \"event_hits_index\": shape (2868354,), type \"<i8\">\n"
     ]
    }
   ],
   "source": [
    "pion_event_ids = p['event_hits_index']\n",
    "original_event_ids = f['event_hits_index']\n",
    "\n",
    "print(original_event_ids)\n",
    "print(pion_event_ids)"
   ]
  },
  {
   "cell_type": "code",
   "execution_count": 7,
   "metadata": {},
   "outputs": [
    {
     "name": "stdout",
     "output_type": "stream",
     "text": [
      "<HDF5 dataset \"angles\": shape (20613195, 2), type \"<f4\">\n",
      "<HDF5 dataset \"energies\": shape (20613195, 1), type \"<f4\">\n",
      "<HDF5 dataset \"event_hits_index\": shape (20613195,), type \"<i8\">\n",
      "<HDF5 dataset \"event_ids\": shape (20613195,), type \"<i4\">\n",
      "<HDF5 dataset \"hit_charge\": shape (26925826390,), type \"<f4\">\n",
      "<HDF5 dataset \"hit_pmt\": shape (26925826390,), type \"<i4\">\n",
      "<HDF5 dataset \"hit_time\": shape (26925826390,), type \"<f4\">\n",
      "<HDF5 dataset \"labels\": shape (20613195,), type \"<i4\">\n",
      "<HDF5 dataset \"positions\": shape (20613195, 1, 3), type \"<f4\">\n",
      "<HDF5 dataset \"root_files\": shape (20613195,), type \"|O\">\n",
      "<HDF5 dataset \"veto\": shape (20613195,), type \"|b1\">\n",
      "<HDF5 dataset \"veto2\": shape (20613195,), type \"|b1\">\n"
     ]
    }
   ],
   "source": [
    "for key in f.keys():\n",
    "    print(f[key])"
   ]
  },
  {
   "cell_type": "markdown",
   "metadata": {},
   "source": [
    "## Create new Dataset "
   ]
  },
  {
   "cell_type": "code",
   "execution_count": 17,
   "metadata": {},
   "outputs": [],
   "source": [
    "# Concatenate the angles\n",
    "\n",
    "pion_angles = np.array(p['angles'])\n",
    "original_angles = np.array(f['angles'])\n",
    "\n",
    "new_angles = np.append(original_angles, pion_angles) "
   ]
  },
  {
   "cell_type": "code",
   "execution_count": 18,
   "metadata": {},
   "outputs": [],
   "source": [
    "# Concatenate the energies\n",
    "\n",
    "pion_energies = np.array(p['energies'])\n",
    "original_energies = np.array(f['energies'])\n",
    "\n",
    "new_energies = np.append(original_energies, pion_energies) "
   ]
  },
  {
   "cell_type": "code",
   "execution_count": null,
   "metadata": {},
   "outputs": [],
   "source": [
    "# Concatenate the event_hits_index \n"
   ]
  },
  {
   "cell_type": "code",
   "execution_count": 19,
   "metadata": {},
   "outputs": [],
   "source": [
    "# Concatenate the event_ids\n",
    "\n",
    "pion_event_ids = np.array(p['event_ids'])\n",
    "original_event_ids = np.array(f['event_ids'])\n",
    "\n",
    "new_event_ids = np.append(original_event_ids, pion_event_ids) "
   ]
  },
  {
   "cell_type": "code",
   "execution_count": null,
   "metadata": {},
   "outputs": [],
   "source": [
    "# Concatenate the event_ids\n",
    "\n",
    "pion_event_ids = np.array(p['event_ids'])\n",
    "original_event_ids = np.array(f['event_ids'])\n",
    "\n",
    "new_event_ids = np.append(original_event_ids, pion_event_ids) "
   ]
  },
  {
   "cell_type": "code",
   "execution_count": null,
   "metadata": {},
   "outputs": [],
   "source": [
    "# Create new h5file \n",
    "\n",
    "# new_h5 = h5py.File(\"/data/IWCD_mPMT_Short_emg_p0_E0to1000MeV_digihits.h5\", \"w\")"
   ]
  }
 ],
 "metadata": {
  "kernelspec": {
   "display_name": "Python 3",
   "language": "python",
   "name": "python3"
  },
  "language_info": {
   "codemirror_mode": {
    "name": "ipython",
    "version": 3
   },
   "file_extension": ".py",
   "mimetype": "text/x-python",
   "name": "python",
   "nbconvert_exporter": "python",
   "pygments_lexer": "ipython3",
   "version": "3.6.10"
  }
 },
 "nbformat": 4,
 "nbformat_minor": 4
}
