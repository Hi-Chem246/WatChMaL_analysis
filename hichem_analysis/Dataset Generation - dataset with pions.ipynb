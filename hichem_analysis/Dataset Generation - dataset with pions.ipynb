{
 "cells": [
  {
   "cell_type": "markdown",
   "metadata": {},
   "source": [
    "# Dataset Generation - include Pions\n",
    "\n",
    "This is used to generate the dataset including pions. "
   ]
  },
  {
   "cell_type": "code",
   "execution_count": 1,
   "metadata": {},
   "outputs": [],
   "source": [
    "import sys\n",
    "import os\n",
    "import h5py\n",
    "from collections import Counter\n",
    "from progressbar import *\n",
    "import re\n",
    "import numpy as np\n",
    "from scipy import signal\n",
    "import matplotlib\n",
    "from functools import reduce\n",
    "\n",
    "# Add the path to the parent directory to augment search for module\n",
    "par_dir = os.path.abspath(os.path.join(os.getcwd(), os.pardir))\n",
    "\n",
    "if par_dir not in sys.path:\n",
    "    sys.path.append(par_dir)\n",
    "\n",
    "sys.path.append(\"../..\")\n",
    "sys.path.append(\"..\")\n",
    "\n",
    "\n",
    "%load_ext autoreload\n",
    "%matplotlib inline\n",
    "%autoreload 2\n",
    "\n",
    "from IPython.display import HTML"
   ]
  },
  {
   "cell_type": "markdown",
   "metadata": {},
   "source": [
    "## Load Data"
   ]
  },
  {
   "cell_type": "code",
   "execution_count": 2,
   "metadata": {},
   "outputs": [
    {
     "name": "stdout",
     "output_type": "stream",
     "text": [
      "<KeysViewHDF5 ['angles', 'energies', 'event_hits_index', 'event_ids', 'hit_charge', 'hit_pmt', 'hit_time', 'labels', 'positions', 'root_files', 'veto', 'veto2']>\n"
     ]
    }
   ],
   "source": [
    "# Load emg data \n",
    "\n",
    "emg_data_path = \"/fast_scratch/WatChMaL/data/IWCD_mPMT_Short_emg_E0to1000MeV_digihits.h5\"\n",
    "\n",
    "f = h5py.File(emg_data_path, \"r\") # Loads emg data\n",
    "\n",
    "print(f.keys())"
   ]
  },
  {
   "cell_type": "code",
   "execution_count": 3,
   "metadata": {},
   "outputs": [
    {
     "name": "stdout",
     "output_type": "stream",
     "text": [
      "<KeysViewHDF5 ['angles', 'energies', 'event_hits_index', 'event_ids', 'hit_charge', 'hit_pmt', 'hit_time', 'labels', 'positions', 'root_files', 'veto', 'veto2']>\n"
     ]
    }
   ],
   "source": [
    "# Load pion data \n",
    "\n",
    "pion_data_path = \"/fast_scratch/WatChMaL/data/IWCD_mPMT_Short_pi0_E0to1000MeV_digihits.h5\"\n",
    "\n",
    "p = h5py.File(pion_data_path, \"r\") # Loads pion data\n",
    "\n",
    "print(p.keys())"
   ]
  },
  {
   "cell_type": "markdown",
   "metadata": {},
   "source": [
    "## New h5 File"
   ]
  },
  {
   "cell_type": "code",
   "execution_count": 4,
   "metadata": {},
   "outputs": [],
   "source": [
    "new_h5_file = h5py.File('/data/WatChMaL/data/IWCD_mPMT_Short_emgp0_E0to1000MeV_digihits.h5','w')"
   ]
  },
  {
   "cell_type": "markdown",
   "metadata": {},
   "source": [
    "## Angles"
   ]
  },
  {
   "cell_type": "code",
   "execution_count": 5,
   "metadata": {},
   "outputs": [
    {
     "name": "stdout",
     "output_type": "stream",
     "text": [
      "20613195\n",
      "float32\n",
      "2868354\n"
     ]
    }
   ],
   "source": [
    "f_angles = f[\"angles\"]\n",
    "print(len(f_angles))\n",
    "\n",
    "print(np.dtype(f_angles))\n",
    "\n",
    "p_angles = p[\"angles\"]\n",
    "print(len(p_angles))"
   ]
  },
  {
   "cell_type": "code",
   "execution_count": 6,
   "metadata": {
    "scrolled": true
   },
   "outputs": [
    {
     "name": "stdout",
     "output_type": "stream",
     "text": [
      "(20613195, 2)\n",
      "(2868354, 2)\n"
     ]
    }
   ],
   "source": [
    "num_rows_f = f_angles.shape\n",
    "print(num_rows_f)\n",
    "\n",
    "num_rows_p = p_angles.shape\n",
    "print(num_rows_p)"
   ]
  },
  {
   "cell_type": "code",
   "execution_count": 7,
   "metadata": {},
   "outputs": [],
   "source": [
    "new_angles = new_h5_file.create_dataset(\"angles\", shape=(len(p_angles)+len(f_angles),num_rows_f[1]), dtype=np.dtype(f_angles))"
   ]
  },
  {
   "cell_type": "code",
   "execution_count": 8,
   "metadata": {},
   "outputs": [],
   "source": [
    "new_angles[0:len(f_angles)] = f_angles[:]\n",
    "\n",
    "new_angles[len(f_angles):] = p_angles[:]"
   ]
  },
  {
   "cell_type": "markdown",
   "metadata": {},
   "source": [
    "## Energies "
   ]
  },
  {
   "cell_type": "code",
   "execution_count": 9,
   "metadata": {
    "scrolled": true
   },
   "outputs": [
    {
     "name": "stdout",
     "output_type": "stream",
     "text": [
      "20613195\n",
      "float32\n",
      "2868354\n"
     ]
    }
   ],
   "source": [
    "f_energies = f[\"energies\"]\n",
    "print(len(f_energies))\n",
    "\n",
    "print(np.dtype(f_energies))\n",
    "\n",
    "p_energies = p[\"energies\"]\n",
    "print(len(p_energies))"
   ]
  },
  {
   "cell_type": "code",
   "execution_count": 10,
   "metadata": {},
   "outputs": [
    {
     "name": "stdout",
     "output_type": "stream",
     "text": [
      "(20613195, 1)\n",
      "(2868354, 1)\n"
     ]
    }
   ],
   "source": [
    "num_rows_f = f_energies.shape\n",
    "print(num_rows_f)\n",
    "\n",
    "num_rows_p = p_energies.shape\n",
    "print(num_rows_p)"
   ]
  },
  {
   "cell_type": "code",
   "execution_count": 11,
   "metadata": {},
   "outputs": [],
   "source": [
    "new_energies = new_h5_file.create_dataset(\"energies\", shape=(len(p_energies)+len(f_energies),num_rows_f[1]), dtype=np.dtype(f_energies))"
   ]
  },
  {
   "cell_type": "code",
   "execution_count": 12,
   "metadata": {},
   "outputs": [],
   "source": [
    "new_energies[0:len(f_energies)] = f_energies[:]\n",
    "\n",
    "new_energies[len(f_energies):] = p_energies[:]"
   ]
  },
  {
   "cell_type": "markdown",
   "metadata": {},
   "source": [
    "## Deal with event_hits_index"
   ]
  },
  {
   "cell_type": "code",
   "execution_count": 13,
   "metadata": {},
   "outputs": [
    {
     "name": "stdout",
     "output_type": "stream",
     "text": [
      "20613195\n",
      "int64\n",
      "2868354\n"
     ]
    }
   ],
   "source": [
    "f_event_hits_index = f[\"event_hits_index\"]\n",
    "print(len(f_event_hits_index))\n",
    "\n",
    "print(np.dtype(f_event_hits_index))\n",
    "\n",
    "p_event_hits_index = p[\"event_hits_index\"]\n",
    "print(len(p_event_hits_index))"
   ]
  },
  {
   "cell_type": "code",
   "execution_count": 14,
   "metadata": {},
   "outputs": [
    {
     "name": "stdout",
     "output_type": "stream",
     "text": [
      "(20613195,)\n",
      "(2868354,)\n"
     ]
    }
   ],
   "source": [
    "num_rows_f = f_event_hits_index.shape\n",
    "print(num_rows_f)\n",
    "\n",
    "num_rows_p = p_event_hits_index.shape\n",
    "print(num_rows_p)"
   ]
  },
  {
   "cell_type": "code",
   "execution_count": 15,
   "metadata": {},
   "outputs": [],
   "source": [
    "new_event_hits_index = new_h5_file.create_dataset(\"event_hits_index\", shape=(len(f_event_hits_index)+len(p_event_hits_index),), dtype=np.dtype(f_event_hits_index))"
   ]
  },
  {
   "cell_type": "code",
   "execution_count": 16,
   "metadata": {},
   "outputs": [],
   "source": [
    "new_event_hits_index[0:len(f_event_hits_index)] = f_event_hits_index[:] \n",
    "\n",
    "new_event_hits_index[len(f_event_hits_index):] = p_event_hits_index[:] "
   ]
  },
  {
   "cell_type": "code",
   "execution_count": 17,
   "metadata": {},
   "outputs": [],
   "source": [
    "shift = len(f[\"hit_charge\"])"
   ]
  },
  {
   "cell_type": "code",
   "execution_count": 18,
   "metadata": {},
   "outputs": [],
   "source": [
    "idxs = list(range(len(f_event_hits_index), len(new_event_hits_index)))"
   ]
  },
  {
   "cell_type": "code",
   "execution_count": 19,
   "metadata": {},
   "outputs": [],
   "source": [
    "new_event_hits_index[idxs] += shift "
   ]
  },
  {
   "cell_type": "code",
   "execution_count": 20,
   "metadata": {},
   "outputs": [],
   "source": [
    "#for i in range(len(f_event_hits_index), len(new_event_hits_index)):\n",
    "    #new_event_hits_index[i] += shift"
   ]
  },
  {
   "cell_type": "markdown",
   "metadata": {},
   "source": [
    "## Event_ids "
   ]
  },
  {
   "cell_type": "code",
   "execution_count": 21,
   "metadata": {},
   "outputs": [
    {
     "name": "stdout",
     "output_type": "stream",
     "text": [
      "20613195\n",
      "int32\n",
      "2868354\n"
     ]
    }
   ],
   "source": [
    "f_event_ids = f[\"event_ids\"]\n",
    "print(len(f_event_ids))\n",
    "\n",
    "print(np.dtype(f_event_ids))\n",
    "\n",
    "p_event_ids = p[\"event_ids\"]\n",
    "print(len(p_event_ids))"
   ]
  },
  {
   "cell_type": "code",
   "execution_count": 22,
   "metadata": {},
   "outputs": [
    {
     "name": "stdout",
     "output_type": "stream",
     "text": [
      "(20613195,)\n",
      "(2868354,)\n"
     ]
    }
   ],
   "source": [
    "num_rows_f = f_event_ids.shape\n",
    "print(num_rows_f)\n",
    "\n",
    "num_rows_p = p_event_ids.shape\n",
    "print(num_rows_p)"
   ]
  },
  {
   "cell_type": "code",
   "execution_count": 23,
   "metadata": {},
   "outputs": [],
   "source": [
    "new_event_ids = new_h5_file.create_dataset(\"event_ids\", shape=(len(p_event_ids)+len(f_event_ids),), dtype=np.dtype(f_event_ids))"
   ]
  },
  {
   "cell_type": "code",
   "execution_count": 24,
   "metadata": {},
   "outputs": [],
   "source": [
    "new_event_ids[0:len(f_event_ids)] = f_event_ids[:]\n",
    "\n",
    "new_event_ids[len(f_event_ids):] = p_event_ids[:]"
   ]
  },
  {
   "cell_type": "markdown",
   "metadata": {},
   "source": [
    "## Hit Charges"
   ]
  },
  {
   "cell_type": "code",
   "execution_count": 25,
   "metadata": {},
   "outputs": [
    {
     "name": "stdout",
     "output_type": "stream",
     "text": [
      "26925826390\n",
      "float32\n"
     ]
    }
   ],
   "source": [
    "hdf5_f_hit_charge = f[\"hit_charge\"]\n",
    "print(len(hdf5_f_hit_charge))\n",
    "\n",
    "print(np.dtype(hdf5_f_hit_charge))\n",
    "\n",
    "f_hit_charge = np.memmap(emg_data_path, mode=\"r\", shape=hdf5_f_hit_charge.shape,\n",
    "                                    offset=hdf5_f_hit_charge.id.get_offset(), dtype=hdf5_f_hit_charge.dtype)"
   ]
  },
  {
   "cell_type": "code",
   "execution_count": 26,
   "metadata": {},
   "outputs": [
    {
     "name": "stdout",
     "output_type": "stream",
     "text": [
      "4607347439\n"
     ]
    }
   ],
   "source": [
    "hdf5_p_hit_charge = p[\"hit_charge\"]\n",
    "print(len(hdf5_p_hit_charge))\n",
    "\n",
    "p_hit_charge = np.memmap(pion_data_path, mode=\"r\", shape=hdf5_p_hit_charge.shape,\n",
    "                                    offset=hdf5_p_hit_charge.id.get_offset(), dtype=hdf5_p_hit_charge.dtype)"
   ]
  },
  {
   "cell_type": "code",
   "execution_count": 27,
   "metadata": {},
   "outputs": [
    {
     "name": "stdout",
     "output_type": "stream",
     "text": [
      "(26925826390,)\n",
      "(4607347439,)\n"
     ]
    }
   ],
   "source": [
    "num_rows_f = f_hit_charge.shape\n",
    "print(num_rows_f)\n",
    "\n",
    "num_rows_p = p_hit_charge.shape\n",
    "print(num_rows_p)"
   ]
  },
  {
   "cell_type": "code",
   "execution_count": 28,
   "metadata": {},
   "outputs": [],
   "source": [
    "new_hit_charge = new_h5_file.create_dataset(\"hit_charge\", shape=(len(p_hit_charge)+len(f_hit_charge),), dtype=np.dtype(hdf5_f_hit_charge))"
   ]
  },
  {
   "cell_type": "code",
   "execution_count": 29,
   "metadata": {},
   "outputs": [],
   "source": [
    "index = len(f_hit_charge)"
   ]
  },
  {
   "cell_type": "code",
   "execution_count": 30,
   "metadata": {},
   "outputs": [],
   "source": [
    "new_hit_charge[0:index] = f_hit_charge[:]\n",
    "\n",
    "new_hit_charge[index:] = p_hit_charge[:]"
   ]
  },
  {
   "cell_type": "markdown",
   "metadata": {},
   "source": [
    "## Hit PMT"
   ]
  },
  {
   "cell_type": "code",
   "execution_count": 31,
   "metadata": {},
   "outputs": [
    {
     "name": "stdout",
     "output_type": "stream",
     "text": [
      "26925826390\n",
      "int32\n"
     ]
    }
   ],
   "source": [
    "hdf5_f_hit_pmt = f[\"hit_pmt\"]\n",
    "print(len(hdf5_f_hit_pmt))\n",
    "\n",
    "print(np.dtype(hdf5_f_hit_pmt))\n",
    "\n",
    "f_hit_pmt = np.memmap(emg_data_path, mode=\"r\", shape=hdf5_f_hit_pmt.shape,\n",
    "                                    offset=hdf5_f_hit_pmt.id.get_offset(), dtype=hdf5_f_hit_pmt.dtype)"
   ]
  },
  {
   "cell_type": "code",
   "execution_count": 32,
   "metadata": {},
   "outputs": [
    {
     "name": "stdout",
     "output_type": "stream",
     "text": [
      "4607347439\n"
     ]
    }
   ],
   "source": [
    "hdf5_p_hit_pmt = p[\"hit_pmt\"]\n",
    "print(len(hdf5_p_hit_pmt))\n",
    "\n",
    "p_hit_pmt = np.memmap(pion_data_path, mode=\"r\", shape=hdf5_p_hit_pmt.shape,\n",
    "                                    offset=hdf5_p_hit_pmt.id.get_offset(), dtype=np.dtype(hdf5_f_hit_pmt))"
   ]
  },
  {
   "cell_type": "code",
   "execution_count": 33,
   "metadata": {},
   "outputs": [
    {
     "name": "stdout",
     "output_type": "stream",
     "text": [
      "(26925826390,)\n",
      "(4607347439,)\n"
     ]
    }
   ],
   "source": [
    "num_rows_f = f_hit_pmt.shape\n",
    "print(num_rows_f)\n",
    "\n",
    "num_rows_p = p_hit_pmt.shape\n",
    "print(num_rows_p)"
   ]
  },
  {
   "cell_type": "code",
   "execution_count": 34,
   "metadata": {},
   "outputs": [],
   "source": [
    "new_hit_pmt = new_h5_file.create_dataset(\"hit_pmt\", shape=(len(p_hit_pmt)+len(f_hit_pmt),), dtype=np.dtype(hdf5_f_hit_pmt))"
   ]
  },
  {
   "cell_type": "code",
   "execution_count": 35,
   "metadata": {},
   "outputs": [],
   "source": [
    "index = len(f_hit_pmt)"
   ]
  },
  {
   "cell_type": "code",
   "execution_count": 36,
   "metadata": {},
   "outputs": [],
   "source": [
    "new_hit_pmt[0:index] = f_hit_pmt[:]\n",
    "\n",
    "new_hit_pmt[index:] = p_hit_pmt[:]"
   ]
  },
  {
   "cell_type": "markdown",
   "metadata": {},
   "source": [
    "## Hit Time"
   ]
  },
  {
   "cell_type": "code",
   "execution_count": 37,
   "metadata": {},
   "outputs": [
    {
     "name": "stdout",
     "output_type": "stream",
     "text": [
      "26925826390\n",
      "float32\n"
     ]
    }
   ],
   "source": [
    "hdf5_f_hit_time = f[\"hit_time\"]\n",
    "print(len(hdf5_f_hit_time))\n",
    "\n",
    "print(np.dtype(hdf5_f_hit_time))\n",
    "\n",
    "f_hit_time = np.memmap(emg_data_path, mode=\"r\", shape=hdf5_f_hit_time.shape,\n",
    "                                    offset=hdf5_f_hit_time.id.get_offset(), dtype=hdf5_f_hit_time.dtype)"
   ]
  },
  {
   "cell_type": "code",
   "execution_count": 38,
   "metadata": {},
   "outputs": [
    {
     "name": "stdout",
     "output_type": "stream",
     "text": [
      "4607347439\n"
     ]
    }
   ],
   "source": [
    "hdf5_p_hit_time = p[\"hit_time\"]\n",
    "print(len(hdf5_p_hit_time))\n",
    "\n",
    "p_hit_time = np.memmap(pion_data_path, mode=\"r\", shape=hdf5_p_hit_time.shape,\n",
    "                                    offset=hdf5_p_hit_time.id.get_offset(), dtype=np.dtype(hdf5_f_hit_time))"
   ]
  },
  {
   "cell_type": "code",
   "execution_count": 39,
   "metadata": {},
   "outputs": [
    {
     "name": "stdout",
     "output_type": "stream",
     "text": [
      "(26925826390,)\n",
      "(4607347439,)\n"
     ]
    }
   ],
   "source": [
    "num_rows_f = f_hit_time.shape\n",
    "print(num_rows_f)\n",
    "\n",
    "num_rows_p = p_hit_time.shape\n",
    "print(num_rows_p)"
   ]
  },
  {
   "cell_type": "code",
   "execution_count": 40,
   "metadata": {},
   "outputs": [],
   "source": [
    "new_hit_time = new_h5_file.create_dataset(\"hit_time\", shape=(len(p_hit_time)+len(f_hit_time),), dtype=np.dtype(hdf5_f_hit_time))"
   ]
  },
  {
   "cell_type": "code",
   "execution_count": 41,
   "metadata": {},
   "outputs": [],
   "source": [
    "index = len(f_hit_time)"
   ]
  },
  {
   "cell_type": "code",
   "execution_count": 42,
   "metadata": {},
   "outputs": [],
   "source": [
    "new_hit_time[0:index] = f_hit_time[:]\n",
    "\n",
    "new_hit_time[index:] = p_hit_time[:]"
   ]
  },
  {
   "cell_type": "markdown",
   "metadata": {},
   "source": [
    "## Labels "
   ]
  },
  {
   "cell_type": "code",
   "execution_count": 43,
   "metadata": {},
   "outputs": [
    {
     "name": "stdout",
     "output_type": "stream",
     "text": [
      "20613195\n",
      "int32\n"
     ]
    }
   ],
   "source": [
    "f_labels = f[\"labels\"]\n",
    "print(len(f_labels))\n",
    "\n",
    "print(np.dtype(f_labels))"
   ]
  },
  {
   "cell_type": "code",
   "execution_count": 44,
   "metadata": {},
   "outputs": [
    {
     "name": "stdout",
     "output_type": "stream",
     "text": [
      "2868354\n",
      "-1\n"
     ]
    }
   ],
   "source": [
    "p_labels = p[\"labels\"]\n",
    "\n",
    "print(len(p_labels))\n",
    "\n",
    "print(p_labels[0])"
   ]
  },
  {
   "cell_type": "code",
   "execution_count": 45,
   "metadata": {},
   "outputs": [
    {
     "name": "stdout",
     "output_type": "stream",
     "text": [
      "(20613195,)\n",
      "(2868354,)\n"
     ]
    }
   ],
   "source": [
    "num_rows_f = f_labels.shape\n",
    "print(num_rows_f)\n",
    "\n",
    "num_rows_p = p_labels.shape\n",
    "print(num_rows_p)"
   ]
  },
  {
   "cell_type": "code",
   "execution_count": 46,
   "metadata": {},
   "outputs": [],
   "source": [
    "new_labels = new_h5_file.create_dataset(\"labels\", shape=(len(p_labels)+len(f_labels),), dtype=np.dtype(f_labels))"
   ]
  },
  {
   "cell_type": "code",
   "execution_count": 47,
   "metadata": {},
   "outputs": [],
   "source": [
    "new_labels[0:len(f_labels)] = f_labels[:]\n",
    "\n",
    "new_labels[len(f_labels):] = p_labels[:] "
   ]
  },
  {
   "cell_type": "code",
   "execution_count": 48,
   "metadata": {},
   "outputs": [],
   "source": [
    "for j in range(len(f_labels),len(p_labels)+len(f_labels)):\n",
    "    new_labels[j] = 3"
   ]
  },
  {
   "cell_type": "markdown",
   "metadata": {},
   "source": [
    "## Positions"
   ]
  },
  {
   "cell_type": "code",
   "execution_count": 49,
   "metadata": {},
   "outputs": [
    {
     "name": "stdout",
     "output_type": "stream",
     "text": [
      "20613195\n",
      "float32\n",
      "2868354\n"
     ]
    }
   ],
   "source": [
    "f_positions = f[\"positions\"]\n",
    "print(len(f_positions))\n",
    "\n",
    "print(np.dtype(f_positions))\n",
    "\n",
    "p_positions = p[\"positions\"]\n",
    "print(len(p_positions))"
   ]
  },
  {
   "cell_type": "code",
   "execution_count": 50,
   "metadata": {},
   "outputs": [
    {
     "name": "stdout",
     "output_type": "stream",
     "text": [
      "(20613195, 1, 3)\n",
      "(2868354, 1, 3)\n"
     ]
    }
   ],
   "source": [
    "num_rows_f = f_positions.shape\n",
    "print(num_rows_f)\n",
    "\n",
    "num_rows_p = p_positions.shape\n",
    "print(num_rows_p)"
   ]
  },
  {
   "cell_type": "code",
   "execution_count": 51,
   "metadata": {},
   "outputs": [],
   "source": [
    "new_positions = new_h5_file.create_dataset(\"positions\", shape=(len(p_positions)+len(f_positions), num_rows_f[1], num_rows_f[2]), dtype=np.dtype(f_positions))"
   ]
  },
  {
   "cell_type": "code",
   "execution_count": 52,
   "metadata": {},
   "outputs": [],
   "source": [
    "new_positions[0:len(f_positions)] = f_positions[:]\n",
    "\n",
    "new_positions[len(f_positions):] = p_positions[:]"
   ]
  },
  {
   "cell_type": "markdown",
   "metadata": {},
   "source": [
    "## Root Files"
   ]
  },
  {
   "cell_type": "code",
   "execution_count": 53,
   "metadata": {},
   "outputs": [
    {
     "name": "stdout",
     "output_type": "stream",
     "text": [
      "20613195\n",
      "object\n",
      "2868354\n"
     ]
    }
   ],
   "source": [
    "f_root_files = f[\"root_files\"]\n",
    "print(len(f_root_files))\n",
    "\n",
    "print(np.dtype(f_root_files))\n",
    "\n",
    "p_root_files = p[\"root_files\"]\n",
    "print(len(p_root_files))"
   ]
  },
  {
   "cell_type": "code",
   "execution_count": 54,
   "metadata": {},
   "outputs": [
    {
     "name": "stdout",
     "output_type": "stream",
     "text": [
      "(20613195,)\n",
      "(2868354,)\n"
     ]
    }
   ],
   "source": [
    "num_rows_f = f_root_files.shape\n",
    "print(num_rows_f)\n",
    "\n",
    "num_rows_p = p_root_files.shape\n",
    "print(num_rows_p)"
   ]
  },
  {
   "cell_type": "code",
   "execution_count": 55,
   "metadata": {},
   "outputs": [],
   "source": [
    "new_root_files = new_h5_file.create_dataset(\"root_files\", shape=(len(p_root_files)+len(f_root_files),), dtype=np.dtype(f_root_files))"
   ]
  },
  {
   "cell_type": "code",
   "execution_count": 56,
   "metadata": {},
   "outputs": [],
   "source": [
    "new_root_files[0:len(f_root_files)] = f_root_files[:]\n",
    "\n",
    "new_root_files[len(f_root_files):] = p_root_files[:]"
   ]
  },
  {
   "cell_type": "markdown",
   "metadata": {},
   "source": [
    "## Veto "
   ]
  },
  {
   "cell_type": "code",
   "execution_count": 57,
   "metadata": {},
   "outputs": [
    {
     "name": "stdout",
     "output_type": "stream",
     "text": [
      "20613195\n",
      "bool\n",
      "2868354\n"
     ]
    }
   ],
   "source": [
    "f_veto = f[\"veto\"]\n",
    "print(len(f_veto))\n",
    "\n",
    "print(np.dtype(f_veto))\n",
    "\n",
    "p_veto = p[\"veto\"]\n",
    "print(len(p_veto))"
   ]
  },
  {
   "cell_type": "code",
   "execution_count": 58,
   "metadata": {},
   "outputs": [
    {
     "name": "stdout",
     "output_type": "stream",
     "text": [
      "(20613195,)\n",
      "(2868354,)\n"
     ]
    }
   ],
   "source": [
    "num_rows_f = f_veto.shape\n",
    "print(num_rows_f)\n",
    "\n",
    "num_rows_p = p_veto.shape\n",
    "print(num_rows_p)"
   ]
  },
  {
   "cell_type": "code",
   "execution_count": 59,
   "metadata": {},
   "outputs": [],
   "source": [
    "new_veto = new_h5_file.create_dataset(\"veto\", shape=(len(p_veto)+len(f_veto),), dtype=np.dtype(f_veto))"
   ]
  },
  {
   "cell_type": "code",
   "execution_count": 60,
   "metadata": {},
   "outputs": [],
   "source": [
    "new_veto[0:len(f_veto)] = f_veto[:]\n",
    "\n",
    "new_veto[len(f_veto):] = p_veto[:]"
   ]
  },
  {
   "cell_type": "markdown",
   "metadata": {},
   "source": [
    "## Veto 2"
   ]
  },
  {
   "cell_type": "code",
   "execution_count": 61,
   "metadata": {},
   "outputs": [
    {
     "name": "stdout",
     "output_type": "stream",
     "text": [
      "20613195\n",
      "2868354\n",
      "bool\n",
      "(20613195,)\n",
      "(2868354,)\n"
     ]
    }
   ],
   "source": [
    "f_veto2 = f[\"veto2\"]\n",
    "print(len(f_veto2))\n",
    "\n",
    "p_veto2 = p[\"veto2\"]\n",
    "print(len(p_veto2))\n",
    "\n",
    "print(np.dtype(f_veto2))\n",
    "\n",
    "num_rows_f = f_veto2.shape\n",
    "print(num_rows_f)\n",
    "\n",
    "num_rows_p = p_veto2.shape\n",
    "print(num_rows_p)"
   ]
  },
  {
   "cell_type": "code",
   "execution_count": 62,
   "metadata": {},
   "outputs": [
    {
     "name": "stdout",
     "output_type": "stream",
     "text": [
      "(20613195,)\n",
      "(2868354,)\n"
     ]
    }
   ],
   "source": [
    "num_rows_f = f_veto2.shape\n",
    "print(num_rows_f)\n",
    "\n",
    "num_rows_p = p_veto2.shape\n",
    "print(num_rows_p)"
   ]
  },
  {
   "cell_type": "code",
   "execution_count": 63,
   "metadata": {},
   "outputs": [],
   "source": [
    "new_veto2 = new_h5_file.create_dataset(\"veto2\", shape=(len(p_veto2)+len(f_veto2),), dtype=np.dtype(f_veto2))"
   ]
  },
  {
   "cell_type": "code",
   "execution_count": 64,
   "metadata": {},
   "outputs": [],
   "source": [
    "new_veto2[0:len(f_veto2)] = f_veto2[:]\n",
    "\n",
    "new_veto2[len(f_veto2):] = p_veto2[:]"
   ]
  },
  {
   "cell_type": "code",
   "execution_count": 65,
   "metadata": {},
   "outputs": [
    {
     "name": "stdout",
     "output_type": "stream",
     "text": [
      "<HDF5 dataset \"angles\": shape (23481549, 2), type \"<f4\">\n",
      "<HDF5 dataset \"energies\": shape (23481549, 1), type \"<f4\">\n",
      "<HDF5 dataset \"event_hits_index\": shape (23481549,), type \"<i8\">\n",
      "<HDF5 dataset \"event_ids\": shape (23481549,), type \"<i4\">\n",
      "<HDF5 dataset \"hit_charge\": shape (31533173829,), type \"<f4\">\n",
      "<HDF5 dataset \"hit_pmt\": shape (31533173829,), type \"<i4\">\n",
      "<HDF5 dataset \"hit_time\": shape (31533173829,), type \"<f4\">\n",
      "<HDF5 dataset \"labels\": shape (23481549,), type \"<i4\">\n",
      "<HDF5 dataset \"positions\": shape (23481549, 1, 3), type \"<f4\">\n",
      "<HDF5 dataset \"root_files\": shape (23481549,), type \"|O\">\n",
      "<HDF5 dataset \"veto\": shape (23481549,), type \"|b1\">\n",
      "<HDF5 dataset \"veto2\": shape (23481549,), type \"|b1\">\n"
     ]
    }
   ],
   "source": [
    "new_data_path = \"/data/WatChMaL/data/IWCD_mPMT_Short_emgp0_E0to1000MeV_digihits.h5\"\n",
    "\n",
    "h = h5py.File(new_data_path, \"r\")\n",
    "\n",
    "for key in h.keys():\n",
    "    print(h[key])"
   ]
  },
  {
   "cell_type": "code",
   "execution_count": null,
   "metadata": {},
   "outputs": [],
   "source": []
  }
 ],
 "metadata": {
  "kernelspec": {
   "display_name": "Python 3",
   "language": "python",
   "name": "python3"
  },
  "language_info": {
   "codemirror_mode": {
    "name": "ipython",
    "version": 3
   },
   "file_extension": ".py",
   "mimetype": "text/x-python",
   "name": "python",
   "nbconvert_exporter": "python",
   "pygments_lexer": "ipython3",
   "version": "3.6.10"
  }
 },
 "nbformat": 4,
 "nbformat_minor": 4
}
