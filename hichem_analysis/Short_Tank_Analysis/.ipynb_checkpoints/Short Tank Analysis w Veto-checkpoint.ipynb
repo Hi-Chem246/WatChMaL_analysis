{
 "cells": [
  {
   "cell_type": "markdown",
   "metadata": {},
   "source": [
    "# Short Tank 4-Class Results Analysis - Hichem Lahiouel\n",
    "\n",
    "In this notebook, I am analyzing the training results that have been done on 4 classes, namely e's, gammas, pions, and muons. "
   ]
  },
  {
   "cell_type": "code",
   "execution_count": null,
   "metadata": {},
   "outputs": [],
   "source": [
    "%load_ext autoreload\n",
    "%matplotlib inline\n",
    "%autoreload 2"
   ]
  },
  {
   "cell_type": "code",
   "execution_count": null,
   "metadata": {},
   "outputs": [],
   "source": [
    "import numpy as np\n",
    "import matplotlib.pyplot as plt\n",
    "import os\n",
    "import sys"
   ]
  },
  {
   "cell_type": "code",
   "execution_count": null,
   "metadata": {},
   "outputs": [],
   "source": [
    "sys.path.append(\"..\")\n",
    "\n",
    "from WatChMaL.analysis.multi_plot_utils import multi_disp_learn_hist, multi_compute_roc, multi_plot_roc\n",
    "from WatChMaL.analysis.comparison_utils import multi_get_masked_data, multi_collapse_test_output\n",
    "from WatChMaL.analysis.plot_utils import plot_confusion_matrix"
   ]
  },
  {
   "cell_type": "code",
   "execution_count": null,
   "metadata": {},
   "outputs": [],
   "source": [
    "############# define plotting params #############\n",
    "\n",
    "c = plt.rcParams['axes.prop_cycle'].by_key()['color']\n",
    "l = ['solid','dashdot','dashed','dotted',':','-.']\n",
    "label_dict = {\"$\\gamma$\":0, \"$e$\":1, \"$\\mu$\":2, \"$\\pi^0$\":3}\n",
    "inverse_label_dict = {0:\"$\\gamma$\", 1:\"$e$\", 2:\"$\\mu$\", 3:\"$\\pi^0$\"}"
   ]
  },
  {
   "cell_type": "code",
   "execution_count": null,
   "metadata": {},
   "outputs": [],
   "source": [
    "############# define run locations #############\n",
    "\n",
    "short_locs = [\n",
    "              '/home/hlahiouel/WatChMaL/outputs/2021-02-11/08-36-41/outputs',\n",
    "              '/home/hlahiouel/WatChMaL/outputs/2021-02-04/12-47-05/outputs',\n",
    "              '/home/hlahiouel/WatChMaL/outputs/2021-02-05/07-22-59/outputs',\n",
    "              '/home/hlahiouel/WatChMaL/outputs/2021-02-07/20-01-02/outputs',\n",
    "              '/home/hlahiouel/WatChMaL/outputs/2021-02-07/20-04-38/outputs',\n",
    "              '/home/hlahiouel/WatChMaL/outputs/2021-02-10/14-54-54/outputs',\n",
    "              '/home/hlahiouel/WatChMaL/outputs/2021-02-10/15-07-17/outputs',\n",
    "              '/home/hlahiouel/WatChMaL/outputs/2021-02-10/15-20-39/outputs',\n",
    "              '/home/hlahiouel/WatChMaL/outputs/2021-02-10/15-33-06/outputs',\n",
    "             ]\n",
    "\n",
    "short_titles = [\n",
    "                'Short Tank - 3 Class - OD Veto',\n",
    "                'Short Tank - 4 Class - No Veto',\n",
    "                'Short Tank - 4 Class - No Veto',\n",
    "                'Short Tank - 4 Class - No Veto',\n",
    "                'Short Tank - 4 Class - No Veto',\n",
    "                'Short Tank - 4 Class - OD Veto',\n",
    "                'Short Tank - 4 Class - OD Veto',\n",
    "                'Short Tank - 4 Class - OD Veto',\n",
    "                'Short Tank - 4 Class - OD Veto',\n",
    "               ]\n",
    "\n",
    "print(len(short_titles))\n",
    "\n",
    "short_linecolor = [c[3],c[4],c[4],c[4],c[4],c[5],c[5],c[5],c[5]]\n",
    "\n",
    "print(len(short_linecolor))\n",
    "\n",
    "short_linestyle = [l[3],l[4],l[4],l[4],l[4],l[5],l[5],l[5],l[5]]\n",
    "\n",
    "print(len(short_linestyle))"
   ]
  },
  {
   "cell_type": "code",
   "execution_count": null,
   "metadata": {},
   "outputs": [],
   "source": [
    "############# load short tank run data #############\n",
    "\n",
    "short_raw_output_softmax = [np.load(loc + \"/softmax.npy\") for loc in short_locs]"
   ]
  },
  {
   "cell_type": "code",
   "execution_count": null,
   "metadata": {},
   "outputs": [],
   "source": [
    "#print(short_raw_output_softmax)"
   ]
  },
  {
   "cell_type": "code",
   "execution_count": null,
   "metadata": {},
   "outputs": [],
   "source": [
    "#short_raw_output_softmax = np.array(short_raw_output_softmax)"
   ]
  },
  {
   "cell_type": "code",
   "execution_count": null,
   "metadata": {},
   "outputs": [],
   "source": [
    "#norm_sum = short_raw_output_softmax[:,0] + short_raw_output_softmax[:,1]\n",
    "\n",
    "#new_softmax = short_raw_output_softmax[:,0:2] / norm_sum[:,None]"
   ]
  },
  {
   "cell_type": "code",
   "execution_count": null,
   "metadata": {},
   "outputs": [],
   "source": [
    "short_raw_actual_labels    = [np.load(loc + \"/labels.npy\") for loc in short_locs]\n",
    "short_raw_predictions    = [np.load(loc + \"/predictions.npy\") for loc in short_locs]"
   ]
  },
  {
   "cell_type": "code",
   "execution_count": null,
   "metadata": {},
   "outputs": [],
   "source": [
    "############# compute short tank multi e/gamma ROC #############\n",
    "\n",
    "short_fprs, short_tprs, short_thrs = multi_compute_roc(short_raw_output_softmax, short_raw_actual_labels, \n",
    "                                     true_label=label_dict[\"$e$\"], \n",
    "                                     false_label=label_dict[\"$\\gamma$\"])"
   ]
  },
  {
   "cell_type": "code",
   "execution_count": null,
   "metadata": {},
   "outputs": [],
   "source": [
    "############# combine short results #############\n",
    "\n",
    "fprs =  short_fprs \n",
    "tprs = short_tprs \n",
    "thrs = short_thrs"
   ]
  },
  {
   "cell_type": "code",
   "execution_count": null,
   "metadata": {},
   "outputs": [],
   "source": [
    "figs = multi_plot_roc(fprs, tprs, thrs, \"$e$\", \"$\\gamma$\", \n",
    "                      fig_list=[1], ylims=[[0,3e6]], \n",
    "                      linestyles=short_linestyle, linecolors=short_linecolor, \n",
    "                      plot_labels=short_titles, show=False)"
   ]
  },
  {
   "cell_type": "code",
   "execution_count": null,
   "metadata": {},
   "outputs": [],
   "source": [
    "############# compute short multi e/mu ROC #############\n",
    "\n",
    "short_fprs, short_tprs, short_thrs = multi_compute_roc(short_raw_output_softmax, short_raw_actual_labels, \n",
    "                                     true_label=label_dict[\"$e$\"], \n",
    "                                     false_label=label_dict[\"$\\mu$\"])"
   ]
  },
  {
   "cell_type": "code",
   "execution_count": null,
   "metadata": {},
   "outputs": [],
   "source": [
    "############# combine short results #############\n",
    "\n",
    "fprs =  short_fprs\n",
    "tprs = short_tprs\n",
    "thrs = short_thrs"
   ]
  },
  {
   "cell_type": "code",
   "execution_count": null,
   "metadata": {},
   "outputs": [],
   "source": [
    "figs = multi_plot_roc(fprs, tprs, thrs, \"$e$\", \"$\\mu$\", fig_list=[1], \n",
    "                      linestyles=short_linestyle,linecolors=short_linecolor, plot_labels=short_titles,show=False)"
   ]
  },
  {
   "cell_type": "code",
   "execution_count": null,
   "metadata": {},
   "outputs": [],
   "source": [
    "muon_softmax_index_dict = {\"non-mu\":0, \"mu\":1}"
   ]
  },
  {
   "cell_type": "code",
   "execution_count": null,
   "metadata": {},
   "outputs": [],
   "source": [
    "############# compute short collapsed ROC #############\n",
    "\n",
    "short_collapsed_class_scores_list, short_collapsed_class_labels_list = multi_collapse_test_output(short_raw_output_softmax, short_raw_actual_labels, label_dict, ignore_type='$\\gamma$', ignore_type2='$\\pi^0$')\n",
    "\n",
    "short_collapsed_class_labels_list = [collapsed_class_labels - 1 for collapsed_class_labels in short_collapsed_class_labels_list]\n",
    "short_collapsed_class_scores_list = [collapsed_class_scores[:,1:] for collapsed_class_scores in short_collapsed_class_scores_list]"
   ]
  },
  {
   "cell_type": "code",
   "execution_count": null,
   "metadata": {},
   "outputs": [],
   "source": [
    "short_fpr_list, short_tpr_list, short_thr_list = multi_compute_roc(short_collapsed_class_scores_list, short_collapsed_class_labels_list, \n",
    "                            true_label=muon_softmax_index_dict[\"non-mu\"], \n",
    "                            false_label=muon_softmax_index_dict[\"mu\"])"
   ]
  },
  {
   "cell_type": "code",
   "execution_count": null,
   "metadata": {},
   "outputs": [],
   "source": [
    "############# combine short results #############\n",
    "\n",
    "fpr_list = short_fpr_list\n",
    "tpr_list = short_tpr_list\n",
    "thr_list = short_thr_list"
   ]
  },
  {
   "cell_type": "code",
   "execution_count": null,
   "metadata": {},
   "outputs": [],
   "source": [
    "# xlims=[[0.0,1.0]]\n",
    "\n",
    "figs = multi_plot_roc(fpr_list, tpr_list, thr_list,\"non-mu\", \"mu\", \n",
    "                      fig_list=[1], ylims=[[0,3e6]], \n",
    "                      linestyles=short_linestyle,linecolors=short_linecolor, plot_labels=short_titles, show=False)"
   ]
  },
  {
   "cell_type": "code",
   "execution_count": null,
   "metadata": {},
   "outputs": [],
   "source": []
  }
 ],
 "metadata": {
  "kernelspec": {
   "display_name": "Python 3",
   "language": "python",
   "name": "python3"
  },
  "language_info": {
   "codemirror_mode": {
    "name": "ipython",
    "version": 3
   },
   "file_extension": ".py",
   "mimetype": "text/x-python",
   "name": "python",
   "nbconvert_exporter": "python",
   "pygments_lexer": "ipython3",
   "version": "3.6.10"
  }
 },
 "nbformat": 4,
 "nbformat_minor": 4
}
