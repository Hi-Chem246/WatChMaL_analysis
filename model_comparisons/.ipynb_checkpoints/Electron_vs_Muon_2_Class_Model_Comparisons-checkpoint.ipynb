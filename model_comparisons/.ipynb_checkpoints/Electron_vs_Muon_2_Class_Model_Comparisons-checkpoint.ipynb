{
 "cells": [
  {
   "cell_type": "markdown",
   "metadata": {},
   "source": [
    "# Rejecting High Efficiency Muons "
   ]
  },
  {
   "cell_type": "markdown",
   "metadata": {},
   "source": [
    "In this notebook, I want to reject the high efficiency Muons and re-plot the ROC curve for e vs gamma for the 3-class case. "
   ]
  },
  {
   "cell_type": "code",
   "execution_count": null,
   "metadata": {},
   "outputs": [],
   "source": [
    "%load_ext autoreload\n",
    "%matplotlib inline\n",
    "%autoreload 2"
   ]
  },
  {
   "cell_type": "code",
   "execution_count": null,
   "metadata": {},
   "outputs": [],
   "source": [
    "import numpy as np\n",
    "import matplotlib.pyplot as plt\n",
    "import os\n",
    "import sys"
   ]
  },
  {
   "cell_type": "code",
   "execution_count": null,
   "metadata": {},
   "outputs": [],
   "source": [
    "sys.path.append(\"..\")\n",
    "\n",
    "from WatChMaL.analysis.multi_plot_utils import multi_disp_learn_hist, multi_compute_roc, multi_plot_roc\n",
    "from WatChMaL.analysis.comparison_utils import multi_get_masked_data, multi_collapse_test_output\n",
    "from WatChMaL.analysis.plot_utils import plot_classifier_response, plot_reduced_classifier_response"
   ]
  },
  {
   "cell_type": "code",
   "execution_count": null,
   "metadata": {},
   "outputs": [],
   "source": [
    "label_dict         = {\"$e$\":0, \"$\\mu$\":1}\n",
    "inverse_label_dict = {0:\"$e$\", 1:\"$\\mu$\"}\n",
    "\n",
    "#muon_softmax_index_dict = {\"non-mu\":0, \"mu\":1}\n",
    "\n",
    "c = plt.rcParams['axes.prop_cycle'].by_key()['color']"
   ]
  },
  {
   "cell_type": "markdown",
   "metadata": {},
   "source": [
    "##  Load 2-class models and the associated data"
   ]
  },
  {
   "cell_type": "code",
   "execution_count": null,
   "metadata": {},
   "outputs": [],
   "source": [
    "locs_2_class = ['/home/hlahiouel/WatChMaL/outputs/2021-03-18/06-50-14/outputs'] \n",
    "\n",
    "titles_2_class = ['2 Class Model - Electrons and Muons']\n",
    "\n",
    "linecolor_2_class = [c[0] for _ in locs_2_class]\n",
    "linestyle_2_class = ['-' for _ in locs_2_class]\n",
    "\n",
    "raw_output_softmax_2_class = [np.load(loc + \"/softmax.npy\") for loc in locs_2_class]\n",
    "\n",
    "raw_actual_labels_2_class  = [np.load(loc + \"/labels.npy\") for loc in locs_2_class]\n",
    "\n",
    "raw_actual_indices_2_class = [np.load(loc + \"/indices.npy\") for loc in locs_2_class]"
   ]
  },
  {
   "cell_type": "code",
   "execution_count": null,
   "metadata": {},
   "outputs": [],
   "source": [
    "two_fprs, two_tprs, two_thrs = multi_compute_roc(raw_output_softmax_2_class, raw_actual_labels_2_class, \n",
    "                                                     true_label=label_dict[\"$e$\"], \n",
    "                                                     false_label=label_dict[\"$\\mu$\"],\n",
    "                                                     normalize=True)"
   ]
  },
  {
   "cell_type": "code",
   "execution_count": null,
   "metadata": {
    "scrolled": true
   },
   "outputs": [],
   "source": [
    "figs = multi_plot_roc(two_fprs, two_tprs, two_thrs, \"$e$\", \"$\\mu$\", \n",
    "                      fig_list=[1], ylims=[[0,3e6]], \n",
    "                      linestyles=linestyle_2_class,linecolors=linecolor_2_class, \n",
    "                      plot_labels=titles_2_class, show=True)"
   ]
  },
  {
   "cell_type": "code",
   "execution_count": null,
   "metadata": {},
   "outputs": [],
   "source": [
    "figs = multi_plot_roc(two_fprs, two_tprs, two_thrs, \"$e$\", \"$\\mu$\", \n",
    "                      fig_list=[1], \n",
    "                      xlims=[[0.6,1.0]],ylims=[[1e0,1e6]],\n",
    "                      linestyles=linestyle_2_class,linecolors=linecolor_2_class, \n",
    "                      plot_labels=titles_2_class, show=True)"
   ]
  },
  {
   "cell_type": "code",
   "execution_count": null,
   "metadata": {},
   "outputs": [],
   "source": [
    "label_dict         = {\"$\\gamma$\":0, \"$e$\":1, \"$\\mu$\":2, '$\\pi^0$':3}\n",
    "inverse_label_dict = {0:\"$\\gamma$\", 1:\"$e$\", 2:\"$\\mu$\", 3:'$\\pi^0$'}\n",
    "\n",
    "muon_softmax_index_dict = {\"non-mu\":0, \"mu\":1}\n",
    "\n",
    "c = plt.rcParams['axes.prop_cycle'].by_key()['color']"
   ]
  },
  {
   "cell_type": "markdown",
   "metadata": {},
   "source": [
    "## Load 3-class model and the associated data"
   ]
  },
  {
   "cell_type": "code",
   "execution_count": null,
   "metadata": {},
   "outputs": [],
   "source": [
    "locs_3_class = ['/home/hlahiouel/WatChMaL/outputs/2021-03-10/12-23-38/outputs'] \n",
    "\n",
    "titles_3_class = ['3 Class - Barrel Fix']\n",
    "\n",
    "linecolor_3_class = [c[1] for _ in locs_3_class]\n",
    "linestyle_3_class = ['-' for _ in locs_3_class]\n",
    "\n",
    "raw_output_softmax_3_class = [np.load(loc + \"/softmax.npy\") for loc in locs_3_class]\n",
    "\n",
    "raw_actual_labels_3_class  = [np.load(loc + \"/labels.npy\") for loc in locs_3_class]\n",
    "\n",
    "raw_actual_indices_3_class = [np.load(loc + \"/indices.npy\") for loc in locs_3_class]"
   ]
  },
  {
   "cell_type": "markdown",
   "metadata": {},
   "source": [
    "## Load 4-class model and the associated data"
   ]
  },
  {
   "cell_type": "code",
   "execution_count": null,
   "metadata": {},
   "outputs": [],
   "source": [
    "locs_4_class = ['/home/hlahiouel/WatChMaL/outputs/2021-03-01/12-52-40/outputs']\n",
    "\n",
    "titles_4_class = ['4 Class Run 1 - Barrel Fix ']\n",
    "\n",
    "linecolor_4_class = [c[2] for _ in locs_4_class]\n",
    "linestyle_4_class = ['-' for _ in locs_4_class]\n",
    "\n",
    "raw_output_softmax_4_class = [np.load(loc + \"/softmax.npy\") for loc in locs_4_class]\n",
    "\n",
    "raw_actual_labels_4_class  = [np.load(loc + \"/labels.npy\") for loc in locs_4_class]\n",
    "\n",
    "raw_actual_indices_4_class = [np.load(loc + \"/indices.npy\") for loc in locs_4_class]"
   ]
  },
  {
   "cell_type": "code",
   "execution_count": null,
   "metadata": {},
   "outputs": [],
   "source": [
    "titles = titles_3_class + titles_4_class\n",
    "\n",
    "linecolor = linecolor_3_class + linecolor_4_class\n",
    "linestyle = linestyle_3_class + linestyle_4_class\n",
    "\n",
    "softmaxes = raw_output_softmax_3_class + raw_output_softmax_4_class\n",
    "labels    = raw_actual_labels_3_class + raw_actual_labels_4_class"
   ]
  },
  {
   "cell_type": "code",
   "execution_count": null,
   "metadata": {},
   "outputs": [],
   "source": [
    "for q in range(len(softmaxes)):\n",
    "    softmax = softmaxes[q]\n",
    "    print(softmax.shape)"
   ]
  },
  {
   "cell_type": "markdown",
   "metadata": {},
   "source": [
    "## Plot ROC e vs gamma with Normalization "
   ]
  },
  {
   "cell_type": "code",
   "execution_count": null,
   "metadata": {},
   "outputs": [],
   "source": [
    "fprs, tprs, thrs = multi_compute_roc(softmaxes, labels, \n",
    "                                                     true_label=label_dict[\"$e$\"], \n",
    "                                                     false_label=label_dict[\"$\\mu$\"],\n",
    "                                                     normalize=True)"
   ]
  },
  {
   "cell_type": "code",
   "execution_count": null,
   "metadata": {},
   "outputs": [],
   "source": [
    "fprs += two_fprs\n",
    "tprs += two_tprs\n",
    "thrs += two_thrs\n",
    "linestyle += linestyle_2_class\n",
    "linecolor += linecolor_2_class\n",
    "titles += titles_2_class"
   ]
  },
  {
   "cell_type": "code",
   "execution_count": null,
   "metadata": {
    "scrolled": false
   },
   "outputs": [],
   "source": [
    "figs = multi_plot_roc(fprs, tprs, thrs, \"$e$\", \"$\\mu$\", \n",
    "                      fig_list=[1], ylims=[[0,3e6]], \n",
    "                      linestyles=linestyle,linecolors=linecolor, \n",
    "                      plot_labels=titles, show=True)"
   ]
  },
  {
   "cell_type": "code",
   "execution_count": null,
   "metadata": {
    "scrolled": false
   },
   "outputs": [],
   "source": [
    "figs = multi_plot_roc(fprs, tprs, thrs, \"$e$\", \"$\\mu$\", \n",
    "                      fig_list=[1], \n",
    "                      xlims=[[0.5,1.0]],ylims=[[1e0,1e6]],\n",
    "                      linestyles=linestyle,linecolors=linecolor, \n",
    "                      plot_labels=titles, show=False)"
   ]
  },
  {
   "cell_type": "code",
   "execution_count": null,
   "metadata": {},
   "outputs": [],
   "source": []
  }
 ],
 "metadata": {
  "kernelspec": {
   "display_name": "Python 3",
   "language": "python",
   "name": "python3"
  },
  "language_info": {
   "codemirror_mode": {
    "name": "ipython",
    "version": 3
   },
   "file_extension": ".py",
   "mimetype": "text/x-python",
   "name": "python",
   "nbconvert_exporter": "python",
   "pygments_lexer": "ipython3",
   "version": "3.6.10"
  }
 },
 "nbformat": 4,
 "nbformat_minor": 4
}
