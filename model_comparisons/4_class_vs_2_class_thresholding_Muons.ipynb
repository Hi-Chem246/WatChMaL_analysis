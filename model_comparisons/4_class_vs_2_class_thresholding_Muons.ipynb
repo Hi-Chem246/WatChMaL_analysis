{
 "cells": [
  {
   "cell_type": "markdown",
   "metadata": {},
   "source": [
    "# Rejecting High Efficiency Muons"
   ]
  },
  {
   "cell_type": "markdown",
   "metadata": {},
   "source": [
    "In this notebook, I want to reject the high efficiency Muons and re-plot the ROC curve for e vs gamma for the 4-class models. "
   ]
  },
  {
   "cell_type": "markdown",
   "metadata": {},
   "source": [
    "Here is an outline for how to do this:\n",
    "1. Determine the thr, tpr, and fpr for Electron/Gamma vs Muon case\n",
    "2. Find the index in the tpr list which corresponds to 98% efficiency \n",
    "3. Use the index from the tpr list to find the threshold in the thr list \n",
    "4. Remove events which have a Electron/Gamma score below that threshold \n",
    "5. Recalculate the tpr, thr, and fpr for the Electron vs Gamma case \n",
    "6. Determine the adjustment constant \n",
    "7. Multiply the tpr by the adjustment constant \n",
    "8. Re-plot the Electron vs Gamma ROC curve "
   ]
  },
  {
   "cell_type": "code",
   "execution_count": null,
   "metadata": {},
   "outputs": [],
   "source": [
    "%load_ext autoreload\n",
    "%matplotlib inline\n",
    "%autoreload 2"
   ]
  },
  {
   "cell_type": "code",
   "execution_count": null,
   "metadata": {},
   "outputs": [],
   "source": [
    "import numpy as np\n",
    "import matplotlib.pyplot as plt\n",
    "import os\n",
    "import sys"
   ]
  },
  {
   "cell_type": "code",
   "execution_count": null,
   "metadata": {},
   "outputs": [],
   "source": [
    "sys.path.append(\"..\")\n",
    "\n",
    "from WatChMaL.analysis.multi_plot_utils import multi_disp_learn_hist, multi_compute_roc, multi_plot_roc\n",
    "from WatChMaL.analysis.comparison_utils import multi_get_masked_data, multi_collapse_test_output\n",
    "from WatChMaL.analysis.plot_utils import plot_classifier_response, plot_reduced_classifier_response"
   ]
  },
  {
   "cell_type": "code",
   "execution_count": null,
   "metadata": {},
   "outputs": [],
   "source": [
    "label_dict         = {\"$\\gamma$\":0, \"$e$\":1, \"$\\mu$\":2, '$\\pi^0$':3}\n",
    "inverse_label_dict = {0:\"$\\gamma$\", 1:\"$e$\", 2:\"$\\mu$\", 3:'$\\pi^0$'}\n",
    "\n",
    "muon_softmax_index_dict = {\"non-mu\":0, \"mu\":1}\n",
    "\n",
    "c = plt.rcParams['axes.prop_cycle'].by_key()['color']"
   ]
  },
  {
   "cell_type": "markdown",
   "metadata": {},
   "source": [
    "##  Load 2-class models and the associated data"
   ]
  },
  {
   "cell_type": "code",
   "execution_count": null,
   "metadata": {},
   "outputs": [],
   "source": [
    "locs_2_class = ['/home/hlahiouel/WatChMaL/outputs/2021-03-10/12-07-03/outputs', '/home/hlahiouel/WatChMaL/outputs/2021-03-10/12-14-45/outputs'] \n",
    "\n",
    "titles_2_class = ['2 Class - Barrel Fix','2 Class - Extra Indices - Barrel Fix']\n",
    "\n",
    "linecolor_2_class = [c[0] for _ in locs_2_class]\n",
    "linestyle_2_class = ['-' for _ in locs_2_class]\n",
    "\n",
    "raw_output_softmax_2_class = [np.load(loc + \"/softmax.npy\") for loc in locs_2_class]\n",
    "\n",
    "raw_actual_labels_2_class  = [np.load(loc + \"/labels.npy\") for loc in locs_2_class]\n",
    "\n",
    "raw_actual_indices_2_class = [np.load(loc + \"/indices.npy\") for loc in locs_2_class]"
   ]
  },
  {
   "cell_type": "markdown",
   "metadata": {},
   "source": [
    "## Load 3-class model and the associated data"
   ]
  },
  {
   "cell_type": "code",
   "execution_count": null,
   "metadata": {},
   "outputs": [],
   "source": [
    "locs_3_class = ['/home/hlahiouel/WatChMaL/outputs/2021-03-10/12-23-38/outputs'] \n",
    "\n",
    "titles_3_class = ['3 Class - Barrel Fix']\n",
    "\n",
    "linecolor_3_class = [c[1] for _ in locs_3_class]\n",
    "linestyle_3_class = ['-' for _ in locs_3_class]\n",
    "\n",
    "raw_output_softmax_3_class = [np.load(loc + \"/softmax.npy\") for loc in locs_3_class]\n",
    "\n",
    "raw_actual_labels_3_class  = [np.load(loc + \"/labels.npy\") for loc in locs_3_class]\n",
    "\n",
    "raw_actual_indices_3_class = [np.load(loc + \"/indices.npy\") for loc in locs_3_class]"
   ]
  },
  {
   "cell_type": "markdown",
   "metadata": {},
   "source": [
    "## Load 4-class model and the associated data"
   ]
  },
  {
   "cell_type": "code",
   "execution_count": null,
   "metadata": {},
   "outputs": [],
   "source": [
    "locs_4_updated_class = ['/home/hlahiouel/WatChMaL/outputs/2021-03-01/12-52-40/outputs']\n",
    "\n",
    "titles_4_updated_class = ['4 Class Run 1 - Barrel Fix ']\n",
    "\n",
    "linecolor_4_updated_class = [c[2] for _ in locs_4_updated_class]\n",
    "linestyle_4_updated_class = ['-' for _ in locs_4_updated_class]\n",
    "\n",
    "raw_output_softmax_4_updated_class = [np.load(loc + \"/softmax.npy\") for loc in locs_4_updated_class]\n",
    "\n",
    "raw_actual_labels_4_updated_class  = [np.load(loc + \"/labels.npy\") for loc in locs_4_updated_class]\n",
    "\n",
    "print(raw_actual_labels_4_updated_class)\n",
    "\n",
    "raw_actual_indices_4_updated_class = [np.load(loc + \"/indices.npy\") for loc in locs_4_updated_class]"
   ]
  },
  {
   "cell_type": "code",
   "execution_count": null,
   "metadata": {},
   "outputs": [],
   "source": [
    "titles = titles_2_class + titles_4_updated_class\n",
    "\n",
    "linecolor = linecolor_2_class + linecolor_4_updated_class\n",
    "linestyle = linestyle_2_class + linestyle_4_updated_class\n",
    "\n",
    "softmaxes = raw_output_softmax_2_class + raw_output_softmax_4_updated_class\n",
    "labels    = raw_actual_labels_2_class + raw_actual_labels_4_updated_class"
   ]
  },
  {
   "cell_type": "code",
   "execution_count": null,
   "metadata": {
    "scrolled": true
   },
   "outputs": [],
   "source": [
    "for q in range(len(softmaxes)):\n",
    "    softmax = softmaxes[q]\n",
    "    print(softmax.shape)"
   ]
  },
  {
   "cell_type": "markdown",
   "metadata": {},
   "source": [
    "## Find fpr, tpr, and thr for Electron/Gamma vs Muon "
   ]
  },
  {
   "cell_type": "code",
   "execution_count": null,
   "metadata": {},
   "outputs": [],
   "source": [
    "four_class_softmax = [softmaxes[2]] # Softmaxes for the 4-class model"
   ]
  },
  {
   "cell_type": "code",
   "execution_count": null,
   "metadata": {},
   "outputs": [],
   "source": [
    "four_class_labels = [labels[2]] # Labels for the 4-class model "
   ]
  },
  {
   "cell_type": "code",
   "execution_count": null,
   "metadata": {},
   "outputs": [],
   "source": [
    "collapsed_class_scores_list, collapsed_class_labels_list = multi_collapse_test_output(four_class_softmax, four_class_labels, label_dict, ignore_type='$\\gamma$',threshold=\"$\\mu$\")\n",
    "\n",
    "collapsed_class_labels_list = [collapsed_class_labels - 1 for collapsed_class_labels in collapsed_class_labels_list]\n",
    "\n",
    "collapsed_class_scores_list = [collapsed_class_scores[:, 1:] for collapsed_class_scores in collapsed_class_scores_list]"
   ]
  },
  {
   "cell_type": "code",
   "execution_count": null,
   "metadata": {},
   "outputs": [],
   "source": [
    "print(collapsed_class_scores_list[0].shape)"
   ]
  },
  {
   "cell_type": "code",
   "execution_count": null,
   "metadata": {},
   "outputs": [],
   "source": [
    "# Computes the ROC curve for the e/gamma vs muon case \n",
    "\n",
    "fprs, tprs, thrs = multi_compute_roc(collapsed_class_scores_list, collapsed_class_labels_list, \n",
    "                                                         true_label=muon_softmax_index_dict[\"non-mu\"], \n",
    "                                                         false_label=muon_softmax_index_dict[\"mu\"],\n",
    "                                                         normalize=True)"
   ]
  },
  {
   "cell_type": "code",
   "execution_count": null,
   "metadata": {},
   "outputs": [],
   "source": [
    "four_class_tpr = tprs[0] # Loads the true-positive rate (aka. efficiency) for the e/gamma vs muon "
   ]
  },
  {
   "cell_type": "code",
   "execution_count": null,
   "metadata": {},
   "outputs": [],
   "source": [
    "four_class_thr = thrs[0] # Loads the thresholds for the e/gamma vs muon"
   ]
  },
  {
   "cell_type": "markdown",
   "metadata": {},
   "source": [
    "## Find the index corresponding to the efficiency we want "
   ]
  },
  {
   "cell_type": "code",
   "execution_count": null,
   "metadata": {
    "scrolled": false
   },
   "outputs": [],
   "source": [
    "efficiency = 0.98 # The efficiency we want \n",
    "tolerance = 0.00001 # How much error we are willing to tolerate \n",
    "\n",
    "# This loop searches through the tpr to find the efficiency closest to the one we want\n",
    "\n",
    "for i in range(len(four_class_tpr)): \n",
    "    if (four_class_tpr[i] >= (efficiency-tolerance)) and (four_class_tpr[i] <= efficiency+tolerance):\n",
    "        print(four_class_tpr[i],i)"
   ]
  },
  {
   "cell_type": "code",
   "execution_count": null,
   "metadata": {},
   "outputs": [],
   "source": [
    "threshold_index = 16434 # Index corresponding to the efficiency we want "
   ]
  },
  {
   "cell_type": "code",
   "execution_count": null,
   "metadata": {},
   "outputs": [],
   "source": [
    "threshold = four_class_thr[threshold_index] # Finds the threshold we need in the threshold data "
   ]
  },
  {
   "cell_type": "code",
   "execution_count": null,
   "metadata": {},
   "outputs": [],
   "source": [
    "print(threshold)"
   ]
  },
  {
   "cell_type": "markdown",
   "metadata": {},
   "source": [
    "## Remove events which are below the threshold "
   ]
  },
  {
   "cell_type": "code",
   "execution_count": null,
   "metadata": {},
   "outputs": [],
   "source": [
    "four_class_softmax = softmaxes[2] # Softmaxes for the 4-class model"
   ]
  },
  {
   "cell_type": "code",
   "execution_count": null,
   "metadata": {},
   "outputs": [],
   "source": [
    "four_class_labels = labels[2] # Labels for the 4-class model "
   ]
  },
  {
   "cell_type": "code",
   "execution_count": null,
   "metadata": {},
   "outputs": [],
   "source": [
    "print(four_class_labels)"
   ]
  },
  {
   "cell_type": "code",
   "execution_count": null,
   "metadata": {},
   "outputs": [],
   "source": [
    "print(np.where(four_class_labels == 1)[0])"
   ]
  },
  {
   "cell_type": "code",
   "execution_count": null,
   "metadata": {},
   "outputs": [],
   "source": [
    "print(np.where(four_class_labels == 0)[0])"
   ]
  },
  {
   "cell_type": "code",
   "execution_count": null,
   "metadata": {},
   "outputs": [],
   "source": [
    "idxs = [] # List of indices \n",
    "\n",
    "# This loop finds the indices of the softmax data which have a e+gamma score below the threshold  \n",
    "\n",
    "for j in range(len(four_class_softmax)):\n",
    "    norm_factor = four_class_softmax[j,0]+four_class_softmax[j,1]+four_class_softmax[j,2]\n",
    "    normalized_probability = (four_class_softmax[j,0]+four_class_softmax[j,1])/norm_factor\n",
    "    if normalized_probability <= threshold:\n",
    "        idxs.append(j)\n",
    "        \n",
    "idxs = np.array(idxs)"
   ]
  },
  {
   "cell_type": "code",
   "execution_count": null,
   "metadata": {},
   "outputs": [],
   "source": [
    "print(len(idxs))"
   ]
  },
  {
   "cell_type": "code",
   "execution_count": null,
   "metadata": {
    "scrolled": true
   },
   "outputs": [],
   "source": [
    "# This cell keeps track of the kind of events that are removed \n",
    "\n",
    "event_list = []\n",
    "\n",
    "for w in idxs:\n",
    "    event_list.append(four_class_labels[w])\n",
    "    \n",
    "event_list = np.array(event_list)\n",
    "\n",
    "gamma_events = []\n",
    "\n",
    "e_events = []\n",
    "\n",
    "muon_events = []\n",
    "\n",
    "pion_events= []\n",
    "\n",
    "for r in event_list:\n",
    "    if r == 0:\n",
    "        gamma_events.append(r)\n",
    "    if r == 1:\n",
    "        e_events.append(r)\n",
    "    if r == 2:\n",
    "        muon_events.append(r)\n",
    "    if r == 3:\n",
    "        pion_events.append(r)\n",
    "\n",
    "print(\"Removed gamma events =\", len(gamma_events))\n",
    "print(\"Removed electron events =\", len(e_events))\n",
    "print(\"Removed muon events =\", len(muon_events))\n",
    "print(\"Removed pion events =\", len(pion_events))"
   ]
  },
  {
   "cell_type": "markdown",
   "metadata": {},
   "source": [
    "## Filter out Electron and Gamma events from 2-class model "
   ]
  },
  {
   "cell_type": "code",
   "execution_count": null,
   "metadata": {},
   "outputs": [],
   "source": [
    "last_gamma_event = np.where(four_class_labels == 0)[0][-1]"
   ]
  },
  {
   "cell_type": "code",
   "execution_count": null,
   "metadata": {},
   "outputs": [],
   "source": [
    "print(last_gamma_event)"
   ]
  },
  {
   "cell_type": "code",
   "execution_count": null,
   "metadata": {},
   "outputs": [],
   "source": [
    "two_class_softmax = softmaxes[0]"
   ]
  },
  {
   "cell_type": "code",
   "execution_count": null,
   "metadata": {},
   "outputs": [],
   "source": [
    "two_class_idxs = []\n",
    "\n",
    "for e in range(len(idxs)):\n",
    "    if idxs[e] <= len(two_class_softmax):\n",
    "        two_class_idxs.append(idxs[e])\n",
    " \n",
    "two_class_idxs = np.array(two_class_idxs)"
   ]
  },
  {
   "cell_type": "code",
   "execution_count": null,
   "metadata": {},
   "outputs": [],
   "source": [
    "print(len(two_class_idxs))"
   ]
  },
  {
   "cell_type": "code",
   "execution_count": null,
   "metadata": {},
   "outputs": [],
   "source": [
    "new_two_class_softmax = np.delete(two_class_softmax,two_class_idxs,axis=0)"
   ]
  },
  {
   "cell_type": "code",
   "execution_count": null,
   "metadata": {},
   "outputs": [],
   "source": [
    "two_class_labels = labels[0]"
   ]
  },
  {
   "cell_type": "code",
   "execution_count": null,
   "metadata": {},
   "outputs": [],
   "source": [
    "new_two_class_labels = np.delete(two_class_labels,two_class_idxs)"
   ]
  },
  {
   "cell_type": "code",
   "execution_count": null,
   "metadata": {},
   "outputs": [],
   "source": [
    "two_class_extra_softmax = softmaxes[1]"
   ]
  },
  {
   "cell_type": "code",
   "execution_count": null,
   "metadata": {},
   "outputs": [],
   "source": [
    "new_two_class_extra_softmax = np.delete(two_class_extra_softmax,two_class_idxs,axis=0)"
   ]
  },
  {
   "cell_type": "code",
   "execution_count": null,
   "metadata": {},
   "outputs": [],
   "source": [
    "two_class_extra_labels = labels[1]"
   ]
  },
  {
   "cell_type": "code",
   "execution_count": null,
   "metadata": {},
   "outputs": [],
   "source": [
    "new_two_class_extra_labels = np.delete(two_class_extra_labels,two_class_idxs)"
   ]
  },
  {
   "cell_type": "markdown",
   "metadata": {},
   "source": [
    "## Create new softmax data and labels "
   ]
  },
  {
   "cell_type": "code",
   "execution_count": null,
   "metadata": {},
   "outputs": [],
   "source": [
    "# This cell deletes events from the softmax and labels which have a e+gamma score below the threshold \n",
    "\n",
    "new_softmax = np.delete(four_class_softmax,idxs,axis=0)\n",
    "\n",
    "new_labels = np.delete(four_class_labels,idxs)"
   ]
  },
  {
   "cell_type": "code",
   "execution_count": null,
   "metadata": {},
   "outputs": [],
   "source": [
    "print(new_softmax.shape)\n",
    "print(new_labels.shape)"
   ]
  },
  {
   "cell_type": "code",
   "execution_count": null,
   "metadata": {},
   "outputs": [],
   "source": [
    "softmaxes += [new_softmax, new_two_class_softmax, new_two_class_extra_softmax]\n",
    "labels += [new_labels, new_two_class_labels, new_two_class_extra_labels]\n",
    "titles += [\"4-Class - Rejected Muons with 98% efficiency threshold\", \"2-class - Removed Events\", \"2-class - Extra Data - Removed Events\"]\n",
    "linecolor += [c[3],c[4],c[5]]\n",
    "linestyle += ['-','-','-']"
   ]
  },
  {
   "cell_type": "code",
   "execution_count": null,
   "metadata": {},
   "outputs": [],
   "source": [
    "softmaxes = [new_softmax, new_two_class_softmax, new_two_class_extra_softmax]\n",
    "labels = [new_labels, new_two_class_labels, new_two_class_extra_labels]\n",
    "titles = [\"4-Class - Rejected Muons with 98% efficiency threshold\", \"2-class - Removed Events\", \"2-class - Extra Data - Removed Events\"]\n",
    "linecolor = [c[3],c[4],c[5]]\n",
    "linestyle = ['-','-','-']"
   ]
  },
  {
   "cell_type": "markdown",
   "metadata": {},
   "source": [
    "## Determine adjustment factor"
   ]
  },
  {
   "cell_type": "code",
   "execution_count": null,
   "metadata": {},
   "outputs": [],
   "source": [
    "num_electron_events_subset = np.where(new_labels == 1)"
   ]
  },
  {
   "cell_type": "code",
   "execution_count": null,
   "metadata": {},
   "outputs": [],
   "source": [
    "num_electron_events_subset = len(num_electron_events_subset[0]) # Number of electron events in the new subset "
   ]
  },
  {
   "cell_type": "code",
   "execution_count": null,
   "metadata": {},
   "outputs": [],
   "source": [
    "print(num_electron_events_subset)"
   ]
  },
  {
   "cell_type": "code",
   "execution_count": null,
   "metadata": {},
   "outputs": [],
   "source": [
    "num_electron_events_overall = np.where(four_class_labels == 1)"
   ]
  },
  {
   "cell_type": "code",
   "execution_count": null,
   "metadata": {},
   "outputs": [],
   "source": [
    "num_electron_events_overall = len(num_electron_events_overall[0]) # Number of electron events before removal  "
   ]
  },
  {
   "cell_type": "code",
   "execution_count": null,
   "metadata": {},
   "outputs": [],
   "source": [
    "print(num_electron_events_overall)"
   ]
  },
  {
   "cell_type": "code",
   "execution_count": null,
   "metadata": {},
   "outputs": [],
   "source": [
    "num_gamma_events_subset = np.where(new_labels == 0)"
   ]
  },
  {
   "cell_type": "code",
   "execution_count": null,
   "metadata": {},
   "outputs": [],
   "source": [
    "num_gamma_events_subset = len(num_gamma_events_subset[0])"
   ]
  },
  {
   "cell_type": "code",
   "execution_count": null,
   "metadata": {},
   "outputs": [],
   "source": [
    "print(num_gamma_events_subset)"
   ]
  },
  {
   "cell_type": "code",
   "execution_count": null,
   "metadata": {},
   "outputs": [],
   "source": [
    "num_gamma_events_overall = np.where(four_class_labels == 0)"
   ]
  },
  {
   "cell_type": "code",
   "execution_count": null,
   "metadata": {},
   "outputs": [],
   "source": [
    "num_gamma_events_overall = len(num_gamma_events_overall[0])"
   ]
  },
  {
   "cell_type": "code",
   "execution_count": null,
   "metadata": {},
   "outputs": [],
   "source": [
    "print(num_gamma_events_overall)"
   ]
  },
  {
   "cell_type": "code",
   "execution_count": null,
   "metadata": {},
   "outputs": [],
   "source": [
    "# Used to adjust the tpr for the 4-class model with the removed events \n",
    "    \n",
    "tpr_adjustment_constant = num_electron_events_subset / num_electron_events_overall"
   ]
  },
  {
   "cell_type": "code",
   "execution_count": null,
   "metadata": {},
   "outputs": [],
   "source": [
    "print(tpr_adjustment_constant)"
   ]
  },
  {
   "cell_type": "code",
   "execution_count": null,
   "metadata": {},
   "outputs": [],
   "source": [
    "# Used to adjust the fpr for the 4-class model with the removed events \n",
    "\n",
    "fpr_adjustment_constant = num_gamma_events_subset / num_gamma_events_overall"
   ]
  },
  {
   "cell_type": "code",
   "execution_count": null,
   "metadata": {},
   "outputs": [],
   "source": [
    "print(fpr_adjustment_constant)"
   ]
  },
  {
   "cell_type": "markdown",
   "metadata": {},
   "source": [
    "## Modify the tpr and fpr "
   ]
  },
  {
   "cell_type": "code",
   "execution_count": null,
   "metadata": {},
   "outputs": [],
   "source": [
    "# Calculates the ROC curve for e vs gamma based on the updated softmaxes and labels \n",
    "\n",
    "fprs, tprs, thrs = multi_compute_roc(softmaxes, labels, \n",
    "                                                     true_label=label_dict[\"$e$\"], \n",
    "                                                     false_label=label_dict[\"$\\gamma$\"],\n",
    "                                                     normalize=True)"
   ]
  },
  {
   "cell_type": "code",
   "execution_count": null,
   "metadata": {},
   "outputs": [],
   "source": [
    "for i,g in enumerate(softmaxes):\n",
    "    if i >= 3:\n",
    "        tprs[i] = tprs[i] * tpr_adjustment_constant\n",
    "        fprs[i] = fprs[i] * fpr_adjustment_constant"
   ]
  },
  {
   "cell_type": "code",
   "execution_count": null,
   "metadata": {},
   "outputs": [],
   "source": [
    "for i,g in enumerate(softmaxes):\n",
    "    tprs[i] = tprs[i] * tpr_adjustment_constant\n",
    "    fprs[i] = fprs[i] * fpr_adjustment_constant"
   ]
  },
  {
   "cell_type": "code",
   "execution_count": null,
   "metadata": {},
   "outputs": [],
   "source": [
    "linecolor[1] = c[3]"
   ]
  },
  {
   "cell_type": "code",
   "execution_count": null,
   "metadata": {},
   "outputs": [],
   "source": [
    "linecolor[5] = c[6]"
   ]
  },
  {
   "cell_type": "markdown",
   "metadata": {},
   "source": [
    "## Plot ROC e vs gamma with Normalization "
   ]
  },
  {
   "cell_type": "code",
   "execution_count": null,
   "metadata": {
    "scrolled": true
   },
   "outputs": [],
   "source": [
    "figs = multi_plot_roc(fprs, tprs, thrs, \"$e$\", \"$\\gamma$\", \n",
    "                      fig_list=[1], ylims=[[0,3e6]], \n",
    "                      linestyles=linestyle,linecolors=linecolor, \n",
    "                      plot_labels=titles, show=False)"
   ]
  },
  {
   "cell_type": "code",
   "execution_count": null,
   "metadata": {
    "scrolled": false
   },
   "outputs": [],
   "source": [
    "figs = multi_plot_roc(fprs, tprs, thrs, \"$e$\", \"$\\gamma$\", \n",
    "                      fig_list=[1], \n",
    "                      xlims=[[0.8,1.0]],ylims=[[1e0,1.8e0]],\n",
    "                      linestyles=linestyle,linecolors=linecolor, \n",
    "                      plot_labels=titles, show=False)"
   ]
  }
 ],
 "metadata": {
  "kernelspec": {
   "display_name": "Python 3",
   "language": "python",
   "name": "python3"
  },
  "language_info": {
   "codemirror_mode": {
    "name": "ipython",
    "version": 3
   },
   "file_extension": ".py",
   "mimetype": "text/x-python",
   "name": "python",
   "nbconvert_exporter": "python",
   "pygments_lexer": "ipython3",
   "version": "3.8.5"
  }
 },
 "nbformat": 4,
 "nbformat_minor": 4
}
