{
 "cells": [
  {
   "cell_type": "code",
   "execution_count": 1,
   "metadata": {
    "tags": []
   },
   "outputs": [],
   "source": [
    "import sys\n",
    "import os\n",
    "import h5py\n",
    "from collections import Counter\n",
    "from progressbar import *\n",
    "import re\n",
    "import numpy as np\n",
    "import itertools\n",
    "from tqdm import tqdm\n",
    "\n",
    "par_dir = os.path.abspath(os.path.join(os.getcwd(), os.pardir))\n",
    "\n",
    "if par_dir not in sys.path:\n",
    "    sys.path.append(par_dir)\n",
    "\n",
    "sys.path.append(\"..\")\n",
    "\n",
    "from deprecated_repeating_classifier_training_utils import *"
   ]
  },
  {
   "cell_type": "code",
   "execution_count": 2,
   "metadata": {},
   "outputs": [],
   "source": [
    "%load_ext autoreload\n",
    "%matplotlib inline\n",
    "%autoreload 2"
   ]
  },
  {
   "cell_type": "code",
   "execution_count": 3,
   "metadata": {},
   "outputs": [],
   "source": [
    "c = plt.rcParams['axes.prop_cycle'].by_key()['color']\n",
    "\n",
    "new_locs = []\n",
    "\n",
    "new_titles = []\n",
    "\n",
    "old_locs = ['/home/jtindall/presentation_links/20200724_164640_nomichel_3class',\n",
    "            '/home/jtindall/presentation_links/20200730_151851_barrel_fix_only_3class',\n",
    "            '/home/jtindall/presentation_links/20200729_125923_transforms_3class_rerun'\n",
    "           ]\n",
    "\n",
    "old_titles = ['Previous', \n",
    "              'No Transforms',\n",
    "              'Transforms'\n",
    "         ]\n",
    "\n",
    "\"\"\"\n",
    "new_linecolor = [c[0],c[1],c[2],c[3],c[4],c[5],c[6],c[7],c[8],c[9]]\n",
    "new_linestyle = ['--','--','--','--','--','--','--','--','--','--']\n",
    "\n",
    "old_linecolor = [c[0],c[1],c[2],c[3],c[4],c[5],c[6],c[7]]\n",
    "old_linestyle = [':',':',':',':',':',':',':',':']\n",
    "\"\"\"\n",
    "\n",
    "new_linecolor = [c[0],c[0],c[0],c[0],c[0],c[0],c[0],c[0],c[0],c[0]]\n",
    "new_linestyle = ['--','--','--','--','--','--','--','--','--','--']\n",
    "\n",
    "old_linecolor = [c[1],c[1],c[1],c[1],c[1],c[1],c[1],c[1],c[1],c[1]]\n",
    "old_linestyle = [':',':',':',':',':',':',':',':',':',':']\n",
    "\n",
    "locs = new_locs + old_locs\n",
    "titles = new_titles + old_titles\n",
    "linecolor = new_linecolor + old_linecolor\n",
    "linestyle = new_linestyle + old_linestyle\n",
    "\n",
    "idx_file_paths = ['/fast_scratch/WatChMaL/data/IWCD_fulltank_300_post_veto_nomichel_pe_idxs.npz'\n",
    "                  for _ in range(len(locs))]\n",
    "\n",
    "cut_names= [['fq_failed', 'fq_flag'] for _ in range(len(locs))]\n",
    "cut_path = '/home/jtindall/indices/pointnet_cut_indices.npz'\n",
    "\n",
    "npz_path = '/home/jtindall/presentation_links/Index_Storage'\n",
    "LABEL_DICT = {0:\"gamma\", 1:\"e\", 2:\"mu\"}\n",
    "index_dict = {value:key for key, value in LABEL_DICT.items()}"
   ]
  },
  {
   "cell_type": "code",
   "execution_count": 4,
   "metadata": {},
   "outputs": [],
   "source": [
    "#fig = disp_multiple_learn_hist(locs,losslim=2.5,titles=titles,leg_font=15, title_font=15)"
   ]
  },
  {
   "cell_type": "code",
   "execution_count": 5,
   "metadata": {},
   "outputs": [],
   "source": [
    "test_output = [load_test_output_pn(os.path.join(loc,'test_validation_iteration_dump.npz'),\n",
    "                                   cut_path,\n",
    "                                   np.load(idx_file_paths[i])['test_idxs'], cut_names[i])\n",
    "               for i, loc in enumerate(locs)]\n"
   ]
  },
  {
   "cell_type": "code",
   "execution_count": 6,
   "metadata": {},
   "outputs": [],
   "source": [
    "plot_outputs = test_output\n",
    "plot_labels = titles"
   ]
  },
  {
   "cell_type": "markdown",
   "metadata": {},
   "source": [
    "## Load FiTQuN"
   ]
  },
  {
   "cell_type": "code",
   "execution_count": 7,
   "metadata": {},
   "outputs": [],
   "source": [
    "preferred_run_idx = 2\n",
    "preferred_run = test_output[preferred_run_idx]"
   ]
  },
  {
   "cell_type": "code",
   "execution_count": 8,
   "metadata": {},
   "outputs": [],
   "source": [
    "fq_rootfiles, fq_eventids, fq_flag, fq_scores, fq_mom, fq_labels = load_fq_output(os.path.join(npz_path,'fq_mapping_idxs.npz'), \n",
    "                                                                                  os.path.join(npz_path,'fq_failed_idxs.npz'), \n",
    "                                                                                  idx_file_paths[preferred_run_idx], \n",
    "                                                                                  '/home/jtindall/indices/pointnet_cut_indices.npz', \n",
    "                                                                                  cut_names[0])"
   ]
  },
  {
   "cell_type": "code",
   "execution_count": 10,
   "metadata": {},
   "outputs": [
    {
     "name": "stdout",
     "output_type": "stream",
     "text": [
      "2066763\n"
     ]
    }
   ],
   "source": [
    "print(len(fq_labels))"
   ]
  },
  {
   "cell_type": "code",
   "execution_count": 9,
   "metadata": {},
   "outputs": [
    {
     "name": "stderr",
     "output_type": "stream",
     "text": [
      "Verification Progress:   0% [                                  ] ETA:  --:--:--\r"
     ]
    },
    {
     "ename": "KeyboardInterrupt",
     "evalue": "Interrupted by user",
     "output_type": "error",
     "traceback": [
      "\u001b[0;31m------------------------------------------------------------------------\u001b[0m",
      "\u001b[0;31mKeyboardInterrupt\u001b[0m                      Traceback (most recent call last)",
      "\u001b[0;32m<ipython-input-9-809a19ec7a61>\u001b[0m in \u001b[0;36m<module>\u001b[0;34m\u001b[0m\n\u001b[1;32m      8\u001b[0m     \u001b[0;31m#print(re.sub('_fiTQun','',fq_rootfiles[i].split('/')[-1]))\u001b[0m\u001b[0;34m\u001b[0m\u001b[0;34m\u001b[0m\u001b[0;34m\u001b[0m\u001b[0m\n\u001b[1;32m      9\u001b[0m     \u001b[0;31m#print(preferred_run['rootfiles'][i].split('/')[-1])\u001b[0m\u001b[0;34m\u001b[0m\u001b[0;34m\u001b[0m\u001b[0;34m\u001b[0m\u001b[0m\n\u001b[0;32m---> 10\u001b[0;31m     \u001b[0minput\u001b[0m\u001b[0;34m(\u001b[0m\u001b[0;34m)\u001b[0m\u001b[0;34m\u001b[0m\u001b[0;34m\u001b[0m\u001b[0m\n\u001b[0m\u001b[1;32m     11\u001b[0m     \u001b[0mpbar\u001b[0m\u001b[0;34m.\u001b[0m\u001b[0mupdate\u001b[0m\u001b[0;34m(\u001b[0m\u001b[0mi\u001b[0m\u001b[0;34m)\u001b[0m\u001b[0;34m\u001b[0m\u001b[0;34m\u001b[0m\u001b[0m\n\u001b[1;32m     12\u001b[0m \u001b[0mpbar\u001b[0m\u001b[0;34m.\u001b[0m\u001b[0mfinish\u001b[0m\u001b[0;34m(\u001b[0m\u001b[0;34m)\u001b[0m\u001b[0;34m\u001b[0m\u001b[0;34m\u001b[0m\u001b[0m\n",
      "\u001b[0;32m~/.local/lib/python3.6/site-packages/ipykernel/kernelbase.py\u001b[0m in \u001b[0;36mraw_input\u001b[0;34m(self, prompt)\u001b[0m\n\u001b[1;32m    861\u001b[0m             \u001b[0mself\u001b[0m\u001b[0;34m.\u001b[0m\u001b[0m_parent_ident\u001b[0m\u001b[0;34m,\u001b[0m\u001b[0;34m\u001b[0m\u001b[0;34m\u001b[0m\u001b[0m\n\u001b[1;32m    862\u001b[0m             \u001b[0mself\u001b[0m\u001b[0;34m.\u001b[0m\u001b[0m_parent_header\u001b[0m\u001b[0;34m,\u001b[0m\u001b[0;34m\u001b[0m\u001b[0;34m\u001b[0m\u001b[0m\n\u001b[0;32m--> 863\u001b[0;31m             \u001b[0mpassword\u001b[0m\u001b[0;34m=\u001b[0m\u001b[0;32mFalse\u001b[0m\u001b[0;34m,\u001b[0m\u001b[0;34m\u001b[0m\u001b[0;34m\u001b[0m\u001b[0m\n\u001b[0m\u001b[1;32m    864\u001b[0m         )\n\u001b[1;32m    865\u001b[0m \u001b[0;34m\u001b[0m\u001b[0m\n",
      "\u001b[0;32m~/.local/lib/python3.6/site-packages/ipykernel/kernelbase.py\u001b[0m in \u001b[0;36m_input_request\u001b[0;34m(self, prompt, ident, parent, password)\u001b[0m\n\u001b[1;32m    902\u001b[0m             \u001b[0;32mexcept\u001b[0m \u001b[0mKeyboardInterrupt\u001b[0m\u001b[0;34m:\u001b[0m\u001b[0;34m\u001b[0m\u001b[0;34m\u001b[0m\u001b[0m\n\u001b[1;32m    903\u001b[0m                 \u001b[0;31m# re-raise KeyboardInterrupt, to truncate traceback\u001b[0m\u001b[0;34m\u001b[0m\u001b[0;34m\u001b[0m\u001b[0;34m\u001b[0m\u001b[0m\n\u001b[0;32m--> 904\u001b[0;31m                 \u001b[0;32mraise\u001b[0m \u001b[0mKeyboardInterrupt\u001b[0m\u001b[0;34m(\u001b[0m\u001b[0;34m\"Interrupted by user\"\u001b[0m\u001b[0;34m)\u001b[0m \u001b[0;32mfrom\u001b[0m \u001b[0;32mNone\u001b[0m\u001b[0;34m\u001b[0m\u001b[0;34m\u001b[0m\u001b[0m\n\u001b[0m\u001b[1;32m    905\u001b[0m             \u001b[0;32mexcept\u001b[0m \u001b[0mException\u001b[0m \u001b[0;32mas\u001b[0m \u001b[0me\u001b[0m\u001b[0;34m:\u001b[0m\u001b[0;34m\u001b[0m\u001b[0;34m\u001b[0m\u001b[0m\n\u001b[1;32m    906\u001b[0m                 \u001b[0mself\u001b[0m\u001b[0;34m.\u001b[0m\u001b[0mlog\u001b[0m\u001b[0;34m.\u001b[0m\u001b[0mwarning\u001b[0m\u001b[0;34m(\u001b[0m\u001b[0;34m\"Invalid Message:\"\u001b[0m\u001b[0;34m,\u001b[0m \u001b[0mexc_info\u001b[0m\u001b[0;34m=\u001b[0m\u001b[0;32mTrue\u001b[0m\u001b[0;34m)\u001b[0m\u001b[0;34m\u001b[0m\u001b[0;34m\u001b[0m\u001b[0m\n",
      "\u001b[0;31mKeyboardInterrupt\u001b[0m: Interrupted by user"
     ]
    }
   ],
   "source": [
    "pbar = ProgressBar(widgets=['Verification Progress: ', Percentage(), ' ', Bar(marker='0',left='[',right=']'),\n",
    "           ' ', ETA()], maxval=len(fq_rootfiles))\n",
    "pbar.start()\n",
    "for i in range(len(fq_rootfiles)):\n",
    "    assert re.sub('_fiTQun','',fq_rootfiles[i].split('/')[-1]) == preferred_run['rootfiles'][i].split('/')[-1], print(fq_rootfiles[i])\n",
    "    assert fq_eventids[i]-1 == preferred_run['eventids'][i]\n",
    "    \n",
    "    #print(re.sub('_fiTQun','',fq_rootfiles[i].split('/')[-1]))\n",
    "    #print(preferred_run['rootfiles'][i].split('/')[-1])\n",
    "    input()\n",
    "    pbar.update(i)\n",
    "pbar.finish()\n",
    "assert len(preferred_run['rootfiles']) == fq_rootfiles.shape[0]\n",
    "print(\"Success! We now have a FiTQun output set in the same order as the h5 test set\")"
   ]
  },
  {
   "cell_type": "markdown",
   "metadata": {},
   "source": [
    "## Compute ROCs"
   ]
  },
  {
   "cell_type": "code",
   "execution_count": null,
   "metadata": {},
   "outputs": [],
   "source": [
    "fprs, tprs, thresholds = zip(*[prep_roc_data(output['softmax'],output['labels'],\n",
    "                                'rejection', index_dict,\"e\",\"gamma\") for output in plot_outputs]\n",
    "                             +\n",
    "                            [prep_roc_data(-fq_scores,fq_labels,\n",
    "                            'rejection', index_dict, \"e\",\"gamma\")])"
   ]
  },
  {
   "cell_type": "code",
   "execution_count": null,
   "metadata": {},
   "outputs": [],
   "source": [
    "roc_metrics = plot_multiple_ROC((fprs, tprs, thresholds),'rejection', [\"e\", \"gamma\"], \n",
    "                                plot_labels=plot_labels + ['FiTQun'], \n",
    "                                linestyle=linestyle,\n",
    "                                title='e vs gamma',\n",
    "                                annotate=False)"
   ]
  },
  {
   "cell_type": "code",
   "execution_count": null,
   "metadata": {},
   "outputs": [],
   "source": [
    "fprs, tprs, thresholds = zip(*[prep_roc_data(output['softmax'], output['labels'], 'rejection',\n",
    "                                             index_dict, \"e\", \"gamma\") for output in plot_outputs])\n",
    "roc_metrics = plot_multiple_ROC((fprs, tprs, thresholds),'rejection', [\"e\", \"gamma\"], plot_labels=plot_labels,\n",
    "                                png_name = 'overlaid_roc',title='e vs gamma',annotate=False,\n",
    "                                linestyle=linestyle)"
   ]
  },
  {
   "cell_type": "code",
   "execution_count": null,
   "metadata": {},
   "outputs": [],
   "source": [
    "collapsed_info = [collapse_test_output(run['softmax'],run['labels'], index_dict, ignore_type=\"gamma\") \n",
    "                  for run in test_output]\n",
    "\n",
    "collapsed_scores = [info[0] for info in collapsed_info]\n",
    "collapsed_labels = [info[1] for info in collapsed_info]\n",
    "\n",
    "fprs, tprs, thresholds = zip(*[prep_roc_data(collapsed_scores[i],\n",
    "                                             collapsed_labels[i], \n",
    "                                             'rejection', \n",
    "                                             index_dict, \n",
    "                                             \"e\",\"mu\") for i in range(len(collapsed_info))]\n",
    "                             +\n",
    "                                [prep_roc_data(fq_scores,fq_labels,'rejection',index_dict,\"e\",\"mu\")]\n",
    "                            )"
   ]
  },
  {
   "cell_type": "code",
   "execution_count": null,
   "metadata": {},
   "outputs": [],
   "source": [
    "roc_metrics = plot_multiple_ROC((fprs, tprs, thresholds),\n",
    "                                'rejection', \n",
    "                                [\"e\", \"mu\"], \n",
    "                                plot_labels = plot_labels + ['FiTQun'],\n",
    "                                title='ResNet-FiTQun ROC Curve Comparison',\n",
    "                                annotate=False,\n",
    "                                 xlabel='e- Signal Efficiency',\n",
    "                                ylabel='\\u03BC- Background Rejection'\n",
    "                               )"
   ]
  },
  {
   "cell_type": "code",
   "execution_count": null,
   "metadata": {},
   "outputs": [],
   "source": [
    "collapsed_softmaxes, collapsed_labels = zip(\n",
    "    *[collapse_test_output(output['softmax'], output['labels'], index_dict, ignore_type=\"gamma\")\n",
    "      for output in plot_outputs])"
   ]
  },
  {
   "cell_type": "code",
   "execution_count": null,
   "metadata": {},
   "outputs": [],
   "source": [
    "fprs, tprs, thresholds = zip(*[prep_roc_data(softmaxes, labels, 'rejection', index_dict, \"e\", \"mu\")\n",
    "                               for softmaxes, labels in zip(collapsed_softmaxes, collapsed_labels)])\n",
    "roc_metrics = plot_multiple_ROC((fprs, tprs, thresholds),'rejection', [\"e\", \"mu\"],\n",
    "                                plot_labels=plot_labels,\n",
    "                                png_name = 'overlaid_roc',title='e/gamma vs mu',annotate=False,\n",
    "                                linestyle=linestyle, leg_loc='lower left')"
   ]
  }
 ],
 "metadata": {
  "kernelspec": {
   "display_name": "Python 3",
   "language": "python",
   "name": "python3"
  },
  "language_info": {
   "codemirror_mode": {
    "name": "ipython",
    "version": 3
   },
   "file_extension": ".py",
   "mimetype": "text/x-python",
   "name": "python",
   "nbconvert_exporter": "python",
   "pygments_lexer": "ipython3",
   "version": "3.6.10"
  }
 },
 "nbformat": 4,
 "nbformat_minor": 2
}
