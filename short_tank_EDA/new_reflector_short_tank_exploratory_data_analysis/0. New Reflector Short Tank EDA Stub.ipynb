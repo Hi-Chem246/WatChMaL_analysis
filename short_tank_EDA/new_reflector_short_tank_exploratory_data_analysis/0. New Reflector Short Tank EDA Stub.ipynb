{
 "cells": [
  {
   "cell_type": "markdown",
   "metadata": {},
   "source": [
    "# Analyzing Training, Validation, and Testing Sets\n",
    "\n",
    "Investigation of the dataset for new reflector short tank data"
   ]
  },
  {
   "cell_type": "code",
   "execution_count": 1,
   "metadata": {},
   "outputs": [],
   "source": [
    "%load_ext autoreload\n",
    "%matplotlib inline\n",
    "%autoreload 2"
   ]
  },
  {
   "cell_type": "code",
   "execution_count": 2,
   "metadata": {},
   "outputs": [],
   "source": [
    "import sys\n",
    "import os\n",
    "import h5py\n",
    "import numpy as np\n",
    "import matplotlib.pyplot as plt"
   ]
  },
  {
   "cell_type": "code",
   "execution_count": 3,
   "metadata": {},
   "outputs": [
    {
     "name": "stdout",
     "output_type": "stream",
     "text": [
      "adding pardir\n"
     ]
    }
   ],
   "source": [
    "# Add the path to the parent directory to augment search for module\n",
    "\n",
    "if \"../..\" not in sys.path:\n",
    "    print(\"adding pardir\")\n",
    "    sys.path.append(\"../..\")\n",
    "\n",
    "from WatChMaL_analysis.old_reflector_short_tank_exploratory_data_analysis.exploratory_data_analysis_utils import *"
   ]
  },
  {
   "cell_type": "markdown",
   "metadata": {},
   "source": [
    "# Load Data From H5"
   ]
  },
  {
   "cell_type": "code",
   "execution_count": 4,
   "metadata": {},
   "outputs": [
    {
     "name": "stdout",
     "output_type": "stream",
     "text": [
      "<KeysViewHDF5 ['angles', 'energies', 'event_hits_index', 'event_ids', 'hit_charge', 'hit_pmt', 'hit_time', 'labels', 'positions', 'root_files', 'veto', 'veto2']>\n"
     ]
    }
   ],
   "source": [
    "# Import test events from h5 file\n",
    "data_path = \"/fast_scratch/WatChMaL/data/IWCD_mPMT_Short_emg_E0to1000MeV_digihits.h5\"\n",
    "data_file = h5py.File(data_path, \"r\")\n",
    "\n",
    "print(data_file.keys())\n",
    "\n",
    "hdf5_hit_pmt    = data_file[\"hit_pmt\"]\n",
    "hdf5_hit_time   = data_file[\"hit_time\"]\n",
    "hdf5_hit_charge = data_file[\"hit_charge\"]\n",
    "\n",
    "\n",
    "hit_pmt    = np.memmap(data_path, mode=\"r\", shape=hdf5_hit_pmt.shape,\n",
    "                                    offset=hdf5_hit_pmt.id.get_offset(), dtype=hdf5_hit_pmt.dtype)\n",
    "\n",
    "hit_time   = np.memmap(data_path, mode=\"r\", shape=hdf5_hit_time.shape,\n",
    "                                    offset=hdf5_hit_time.id.get_offset(), dtype=hdf5_hit_time.dtype)\n",
    "\n",
    "hit_charge = np.memmap(data_path, mode=\"r\", shape=hdf5_hit_charge.shape,\n",
    "                                    offset=hdf5_hit_charge.id.get_offset(), dtype=hdf5_hit_charge.dtype)\n",
    "\n",
    "angles     = np.array(data_file['angles'])\n",
    "energies   = np.array(data_file['energies'])\n",
    "positions  = np.array(data_file['positions'])\n",
    "labels     = np.array(data_file['labels'])\n",
    "root_files = np.array(data_file['root_files'])"
   ]
  },
  {
   "cell_type": "markdown",
   "metadata": {},
   "source": [
    "# Load Indices"
   ]
  },
  {
   "cell_type": "code",
   "execution_count": 5,
   "metadata": {},
   "outputs": [],
   "source": [
    "idxs_path = './short_dataset_data/equal_indices.npz'\n",
    "idxs = np.load(idxs_path, allow_pickle=True)\n",
    "\n",
    "train_idxs = idxs['train_idxs']\n",
    "val_idxs   = idxs['val_idxs']\n",
    "test_idxs  = idxs['test_idxs']"
   ]
  },
  {
   "cell_type": "markdown",
   "metadata": {},
   "source": [
    "# Split Datasets"
   ]
  },
  {
   "cell_type": "code",
   "execution_count": 6,
   "metadata": {},
   "outputs": [
    {
     "name": "stdout",
     "output_type": "stream",
     "text": [
      "Done train info\n",
      "Done val info\n",
      "Done test info\n"
     ]
    }
   ],
   "source": [
    "train_angles    = angles[train_idxs]\n",
    "train_energies  = energies[train_idxs]\n",
    "train_positions = positions[train_idxs]\n",
    "train_labels    = labels[train_idxs]\n",
    "\n",
    "train_info = {'name':'Training Set','energies':train_energies,'positions':train_positions, 'angles':train_angles, 'labels':train_labels}\n",
    "\n",
    "print(\"Done train info\")\n",
    "\n",
    "val_angles     = angles[val_idxs]\n",
    "val_energies   = energies[val_idxs]\n",
    "val_positions  = positions[val_idxs]\n",
    "val_labels     = labels[val_idxs]\n",
    "\n",
    "val_info = {'name':'Validation Set','energies':val_energies,'positions':val_positions, 'angles':val_angles, 'labels':val_labels}\n",
    "\n",
    "print(\"Done val info\")\n",
    "\n",
    "test_angles    = angles[test_idxs]\n",
    "test_energies  = energies[test_idxs]\n",
    "test_positions = positions[test_idxs]\n",
    "test_labels    = labels[test_idxs]\n",
    "test_info = {'name':'Test Set','energies':test_energies,'positions':test_positions, 'angles':test_angles, 'labels':test_labels}\n",
    "\n",
    "print(\"Done test info\")"
   ]
  },
  {
   "cell_type": "code",
   "execution_count": 11,
   "metadata": {},
   "outputs": [
    {
     "data": {
      "text/plain": [
       "\"\\ntrain_radius    = [np.sqrt(train_positions[i,0,0]**2 + train_positions[i,0,2]**2) for i in range(train_positions.shape[0])]\\nval_radius     = [np.sqrt(val_positions[i,0,0]**2 + val_positions[i,0,2]**2) for i in range(val_positions.shape[0])]\\ntest_radius    = [np.sqrt(test_positions[i,0,0]**2 + test_positions[i,0,2]**2) for i in range(test_positions.shape[0])]\\n\\nnp.savez('./short_dataset_data/event_radii.npz', train_radii=train_radius, val_radii=val_radius, test_radii=test_radius)\\n\""
      ]
     },
     "execution_count": 11,
     "metadata": {},
     "output_type": "execute_result"
    }
   ],
   "source": [
    "# compute and save event radii\n",
    "\"\"\"\n",
    "train_radius    = [np.sqrt(train_positions[i,0,0]**2 + train_positions[i,0,2]**2) for i in range(train_positions.shape[0])]\n",
    "val_radius     = [np.sqrt(val_positions[i,0,0]**2 + val_positions[i,0,2]**2) for i in range(val_positions.shape[0])]\n",
    "test_radius    = [np.sqrt(test_positions[i,0,0]**2 + test_positions[i,0,2]**2) for i in range(test_positions.shape[0])]\n",
    "\n",
    "np.savez('./short_dataset_data/event_radii.npz', train_radii=train_radius, val_radii=val_radius, test_radii=test_radius)\n",
    "\"\"\""
   ]
  },
  {
   "cell_type": "code",
   "execution_count": 10,
   "metadata": {},
   "outputs": [],
   "source": [
    "radii_data = np.load('./short_dataset_data/event_radii.npz', allow_pickle=True)\n",
    "\n",
    "train_info['radius'] = radii_data['train_radii']\n",
    "val_info['radius']   = radii_data['val_radii']\n",
    "test_info['radius']  = radii_data['test_radii']"
   ]
  },
  {
   "cell_type": "code",
   "execution_count": 12,
   "metadata": {},
   "outputs": [],
   "source": [
    "dataset_info = [train_info, val_info, test_info]"
   ]
  },
  {
   "cell_type": "markdown",
   "metadata": {},
   "source": [
    "# Get indices associated with each dataset and particle type"
   ]
  },
  {
   "cell_type": "code",
   "execution_count": 13,
   "metadata": {},
   "outputs": [],
   "source": [
    "\n",
    "train_g_idxs = np.where(dataset_info[0]['labels']==0)[0]\n",
    "val_g_idxs   = np.where(dataset_info[1]['labels']==0)[0]\n",
    "test_g_idxs  = np.where(dataset_info[2]['labels']==0)[0]\n",
    "\n",
    "train_e_idxs = np.where(dataset_info[0]['labels']==1)[0]\n",
    "val_e_idxs   = np.where(dataset_info[1]['labels']==1)[0]\n",
    "test_e_idxs  = np.where(dataset_info[2]['labels']==1)[0]\n",
    "\n",
    "train_m_idxs = np.where(dataset_info[0]['labels']==2)[0]\n",
    "val_m_idxs   = np.where(dataset_info[1]['labels']==2)[0]\n",
    "test_m_idxs  = np.where(dataset_info[2]['labels']==2)[0]"
   ]
  }
 ],
 "metadata": {
  "kernelspec": {
   "display_name": "Python 3",
   "language": "python",
   "name": "python3"
  },
  "language_info": {
   "codemirror_mode": {
    "name": "ipython",
    "version": 3
   },
   "file_extension": ".py",
   "mimetype": "text/x-python",
   "name": "python",
   "nbconvert_exporter": "python",
   "pygments_lexer": "ipython3",
   "version": "3.6.10"
  }
 },
 "nbformat": 4,
 "nbformat_minor": 4
}
